{
 "cells": [
  {
   "cell_type": "code",
   "execution_count": null,
   "metadata": {},
   "outputs": [],
   "source": [
    "import numpy as np \n",
    "import pandas as pd\n",
    "import seaborn as sns\n",
    "from sklearn import linear_model\n",
    "import matplotlib.pyplot as plt\n",
    "import statsmodels.api as sm\n",
    "from hw3_helper_function import *\n",
    "#显示所有列\n",
    "pd.set_option('display.max_columns',1000)\n",
    "#显示所有行\n",
    "pd.set_option('display.max_rows', 50)\n",
    "#设置value的显示长度为100，默认为50\n",
    "pd.set_option('max_colwidth',1000)\n",
    "pd.set_option('max_info_columns',300)\n",
    "%matplotlib inline"
   ]
  },
  {
   "cell_type": "code",
   "execution_count": null,
   "metadata": {},
   "outputs": [],
   "source": [
    "df = pd.read_csv(\"/Users/zed/VSCode/regana/finnal-project/communities.csv\")\n",
    "df.shape "
   ]
  },
  {
   "cell_type": "code",
   "execution_count": null,
   "metadata": {},
   "outputs": [],
   "source": [
    "df.info()"
   ]
  },
  {
   "cell_type": "code",
   "execution_count": null,
   "metadata": {},
   "outputs": [],
   "source": [
    "import missingno as msno\n",
    "\n",
    "fig,axe = plt.subplots()\n",
    "plt.style.use('ggplot')\n",
    "axe = msno.matrix(df.iloc[:,5:])\n",
    "plt.savefig(\"missing.png\",)"
   ]
  },
  {
   "cell_type": "code",
   "execution_count": null,
   "metadata": {},
   "outputs": [],
   "source": [
    "# 创建相关度矩阵\n",
    "corr_matrix = df.corr().abs()\n",
    "\n",
    "# 选择相关度矩阵的上三角\n",
    "upper = corr_matrix.where(np.triu(np.ones(corr_matrix.shape), k=1).astype(np.bool))\n",
    "\n",
    "# # # 寻找相关度大于 0.95 的特征列的索引\n",
    "# to_drop = [column for column in upper.columns if any(upper[column] > 0.95)]\n",
    "\n",
    "# # # 丢弃特征\n",
    "# df_drop =  df.drop(to_drop, axis=1)"
   ]
  },
  {
   "cell_type": "code",
   "execution_count": null,
   "metadata": {},
   "outputs": [],
   "source": [
    "corr_matrix.to_latex()"
   ]
  },
  {
   "cell_type": "code",
   "execution_count": null,
   "metadata": {},
   "outputs": [],
   "source": [
    "corr_matrix.to_latex('corr.pdf')"
   ]
  },
  {
   "cell_type": "code",
   "execution_count": null,
   "metadata": {},
   "outputs": [],
   "source": [
    "df_drop.shape "
   ]
  },
  {
   "cell_type": "code",
   "execution_count": null,
   "metadata": {},
   "outputs": [],
   "source": [
    "df.info()"
   ]
  },
  {
   "cell_type": "code",
   "execution_count": null,
   "metadata": {},
   "outputs": [],
   "source": [
    "df = df.dropna(thresh=int(0.4*df.shape[0]),axis = 1)"
   ]
  },
  {
   "cell_type": "code",
   "execution_count": null,
   "metadata": {},
   "outputs": [],
   "source": [
    "df.info()"
   ]
  },
  {
   "cell_type": "code",
   "execution_count": null,
   "metadata": {},
   "outputs": [],
   "source": [
    "# fig = sns.pairplot(df)    "
   ]
  },
  {
   "cell_type": "code",
   "execution_count": null,
   "metadata": {},
   "outputs": [],
   "source": [
    "X = df.iloc[:,5:-4].fillna(method='pad')\n",
    "y = df.iloc[:,-1].fillna(method='pad')\n"
   ]
  },
  {
   "cell_type": "code",
   "execution_count": null,
   "metadata": {},
   "outputs": [],
   "source": [
    "model = sm.OLS(y,sm.add_constant(X)).fit()"
   ]
  },
  {
   "cell_type": "code",
   "execution_count": null,
   "metadata": {},
   "outputs": [],
   "source": [
    "model.summary()"
   ]
  },
  {
   "cell_type": "code",
   "execution_count": null,
   "metadata": {},
   "outputs": [],
   "source": [
    "tbl=model.summary()\n",
    "with open('temp.tex','w') as fh:\n",
    "    fh.write( tbl.as_latex() )"
   ]
  },
  {
   "cell_type": "code",
   "execution_count": null,
   "metadata": {},
   "outputs": [],
   "source": [
    "def backward_stepwise(y, X, remaining_features):\n",
    "    features = remaining_features.copy()\n",
    "    RSS_list, R_squared_list, adj_R_squared_list, AIC_list, BIC_list = [],[],[],[],[] \n",
    "    features_list = dict()                                    # Intialize feature list using dictionary. This is one way\n",
    "    k = len(remaining_features)\n",
    "    for i in range(k,0,-1):\n",
    "        best_RSS = np.inf                                    # initialize the best_RSS in each round to be infinity\n",
    "\n",
    "        for combo in itertools.combinations(remaining_features,1): # iterate through all remaining features\n",
    "\n",
    "            new_features = remaining_features.copy()\n",
    "            new_features.remove(combo[0])\n",
    "            X_c = sm.add_constant(X[new_features])  # we need to add constant term using sm.OLS\n",
    "            model = sm.OLS(y, X_c).fit()\n",
    "\n",
    "            if model.ssr < best_RSS:                          # compare the RSS value with the smallest value in this round\n",
    "                best_RSS = model.ssr                          # update the best value\n",
    "                best_R_squared = model.rsquared               # update best best_R_squared\n",
    "                best_feature = combo[0]                       # the best feature in this round\n",
    "                best_aic = model.aic\n",
    "                best_bic = model.bic\n",
    "                best_adj_R_squared = model.rsquared_adj\n",
    "\n",
    "        #Updating variables for next loop\n",
    "        features.remove(best_feature)                         # add the best feature in the features set\n",
    "        remaining_features.remove(best_feature)               # remove it from candidate set\n",
    "\n",
    "        #Saving values for plotting\n",
    "        RSS_list.append(best_RSS)\n",
    "        R_squared_list.append(best_R_squared)\n",
    "        AIC_list.append(best_aic)\n",
    "        BIC_list.append(best_bic)\n",
    "        adj_R_squared_list.append(best_adj_R_squared)\n",
    "        features_list[i] = features.copy()\n",
    "\n",
    "    # store results in df_results, which is a joint of df_features and df_values\n",
    "    df_features = pd.DataFrame({'features':features_list})\n",
    "    df_values = pd.DataFrame({'RSS':RSS_list, 'R_squared': R_squared_list,'AIC':AIC_list,'BIC':BIC_list, 'adj_R_squared': adj_R_squared_list})\n",
    "    df_values.index += 1  # shift the index by 1 to get aligned with df_features\n",
    "    df_results = pd.concat([df_features,df_values], axis=1, join='inner')\n",
    "    df_results['numb_features'] = df_results.index\n",
    "    df_results[\"features\"] = np.flip(df_results[\"features\"].values)\n",
    "    df_results[\"numb_features\"] = np.flip(df_results[\"numb_features\"].values)\n",
    "    return df_results\n",
    "result3 = backward_stepwise(y,X ,list(X.columns))"
   ]
  },
  {
   "cell_type": "code",
   "execution_count": null,
   "metadata": {},
   "outputs": [],
   "source": [
    "fstp = forward_stepwise(y,X,list(X.columns.values))"
   ]
  },
  {
   "cell_type": "code",
   "execution_count": null,
   "metadata": {},
   "outputs": [],
   "source": [
    "def plot_selection(df_results, standards):\n",
    "    fig = plt.figure(figsize=(20, 6))\n",
    "\n",
    "    for i, v in enumerate(standards):\n",
    "        ax = fig.add_subplot(1, len(standards), i+1)\n",
    "        ax.plot(df_results['numb_features'], df_results[v], color='lightblue')\n",
    "        ax.scatter(df_results['numb_features'],\n",
    "                   df_results[v], color='darkblue')\n",
    "        l = len(df_results[v])\n",
    "        if v == 'adj_R_squared':\n",
    "            ax.plot(l-df_results[v].idxmax(), df_results[v].max(),\n",
    "                    marker='x', markersize=20, color='r')\n",
    "            \n",
    "            print(\"According to adj_R_squared select features:\",df_results.features[df_results[v].idxmax()],\",total numbers:\",str(len(df_results.features[df_results[v].idxmax()])))\n",
    "            print(\"\\n\")\n",
    "        else:\n",
    "            print(\"According to \",v,\" select featuers:\",df_results.features[df_results[v].idxmin()],\",total numbers:\",str(len(df_results.features[df_results[v].idxmin()])))\n",
    "            print('\\n')\n",
    "            ax.plot(l-df_results[v].idxmin(), df_results[v].min(),\n",
    "                    marker='x', markersize=20, color='r')\n",
    "\n",
    "        ax.set_xlabel('Number of predictors')\n",
    "        ax.set_ylabel(v)\n",
    "\n",
    "    fig.suptitle('Subset selection using ' + \", \".join(standards), fontsize=16)\n",
    "    plt.show()\n",
    "plot_selection(result3,['RSS','AIC','BIC','adj_R_squared'])"
   ]
  },
  {
   "cell_type": "code",
   "execution_count": null,
   "metadata": {},
   "outputs": [],
   "source": [
    "plot_selection(fstp,['RSS','AIC','BIC','adj_R_squared'])"
   ]
  },
  {
   "cell_type": "code",
   "execution_count": null,
   "metadata": {},
   "outputs": [],
   "source": [
    "# backward seleted model\n",
    "## AIC\n",
    "features = ['racepctblack', 'racePctHisp', 'agePct12t29', 'pctUrban', 'medIncome', 'pctWWage', 'pctWFarmSelf', 'pctWInvInc', 'pctWRetire', 'medFamInc', 'whitePerCap', 'indianPerCap', 'AsianPerCap', 'OtherPerCap', 'PctPopUnderPov', 'PctLess9thGrade', 'PctEmploy', 'PctEmplManu', 'PctOccupManu', 'PctOccupMgmtProf', 'MalePctDivorce', 'MalePctNevMarr', 'TotalPctDiv', 'PctKids2Par', 'PctWorkMom', 'NumIlleg', 'PctIlleg', 'NumImmig', 'PctNotSpeakEnglWell', 'PctLargHouseOccup', 'PersPerOccupHous', 'PersPerRentOccHous', 'PctPersOwnOccup', 'PctPersDenseHous', 'HousVacant', 'PctHousOccup', 'PctHousOwnOcc', 'PctVacantBoarded', 'PctVacMore6Mos', 'OwnOccLowQuart', 'OwnOccMedVal', 'RentLowQ', 'MedRent', 'MedOwnCostPctIncNoMtg', 'NumInShelters', 'NumStreet', 'PctForeignBorn', 'PctSameCity85']\n",
    "X_b = X[features]\n",
    "model_b_aic = sm.OLS(y,sm.add_constant(X_b)).fit()\n",
    "print(model_b_aic.summary())"
   ]
  },
  {
   "cell_type": "code",
   "execution_count": null,
   "metadata": {},
   "outputs": [],
   "source": [
    "features_b_r = ['racepctblack', 'racePctHisp', 'agePct12t29', 'pctUrban', 'medIncome', 'pctWWage', 'pctWFarmSelf', 'pctWInvInc', 'pctWSocSec', 'pctWRetire', 'medFamInc', 'whitePerCap', 'blackPerCap', 'indianPerCap', 'AsianPerCap', 'OtherPerCap', 'HispPerCap', 'PctPopUnderPov', 'PctLess9thGrade', 'PctEmploy', 'PctEmplManu', 'PctOccupManu', 'PctOccupMgmtProf', 'MalePctDivorce', 'MalePctNevMarr', 'TotalPctDiv', 'PctKids2Par', 'PctWorkMomYoungKids', 'PctWorkMom', 'NumIlleg', 'PctIlleg', 'NumImmig', 'PctNotSpeakEnglWell', 'PctLargHouseOccup', 'PersPerOccupHous', 'PersPerRentOccHous', 'PctPersOwnOccup', 'PctPersDenseHous', 'PctHousLess3BR', 'MedNumBR', 'HousVacant', 'PctHousOccup', 'PctHousOwnOcc', 'PctVacantBoarded', 'PctVacMore6Mos', 'OwnOccLowQuart', 'OwnOccMedVal', 'RentLowQ', 'RentHighQ', 'MedRent', 'MedRentPctHousInc', 'MedOwnCostPctInc', 'MedOwnCostPctIncNoMtg', 'NumInShelters', 'NumStreet', 'PctForeignBorn', 'PctSameCity85']\n",
    "X_b_r = X[features_b_r]\n",
    "model_b_aic = sm.OLS(y,sm.add_constant(X_b_r)).fit()\n",
    "print(model_b_aic.summary())"
   ]
  },
  {
   "cell_type": "code",
   "execution_count": null,
   "metadata": {},
   "outputs": [],
   "source": [
    "def plot_selection(df_results, standards):\n",
    "    fig = plt.figure(figsize=(20, 6))\n",
    "\n",
    "    for i, v in enumerate(standards):\n",
    "        ax = fig.add_subplot(1, len(standards), i+1)\n",
    "        ax.plot(df_results['numb_features'], df_results[v], color='lightblue')\n",
    "        ax.scatter(df_results['numb_features'],\n",
    "                   df_results[v], color='darkblue')\n",
    "        l = len(df_results[v])\n",
    "        if v == 'adj_R_squared':\n",
    "            ax.plot(df_results[v].idxmax(), df_results[v].max(),\n",
    "                    marker='x', markersize=20, color='r')\n",
    "            \n",
    "            print(\"According to adj_R_squared select features:\",df_results.features[df_results[v].idxmax()],\",total numbers:\",str(len(df_results.features[df_results[v].idxmax()])))\n",
    "            print(\"\\n\")\n",
    "        else:\n",
    "            print(\"According to \",v,\" select featuers:\",df_results.features[df_results[v].idxmin()],\",total numbers:\",str(len(df_results.features[df_results[v].idxmin()])))\n",
    "            print('\\n')\n",
    "            ax.plot(df_results[v].idxmin(), df_results[v].min(),\n",
    "                    marker='x', markersize=20, color='r')\n",
    "\n",
    "        ax.set_xlabel('Number of predictors')\n",
    "        ax.set_ylabel(v)\n",
    "\n",
    "    fig.suptitle('Subset selection using ' + \", \".join(standards), fontsize=16)\n",
    "    plt.show()\n",
    "plot_selection(fstp,['RSS','AIC','BIC','adj_R_squared'])"
   ]
  },
  {
   "cell_type": "code",
   "execution_count": null,
   "metadata": {},
   "outputs": [],
   "source": [
    "features_f_a=['PctKids2Par', 'racePctWhite', 'HousVacant', 'pctUrban', 'PctWorkMom', 'NumStreet', 'MalePctDivorce', 'PctIlleg', 'numbUrban', 'PctPersDenseHous', 'racepctblack', 'agePct12t29', 'MedOwnCostPctIncNoMtg', 'OtherPerCap', 'pctWRetire', 'PctPopUnderPov', 'pctWWage', 'PctVacantBoarded', 'MedRentPctHousInc', 'RentLowQ', 'MedRent', 'whitePerCap', 'MalePctNevMarr', 'PctEmploy', 'PctVacMore6Mos', 'PctHousOccup', 'agePct16t24', 'AsianPerCap', 'pctWFarmSelf', 'indianPerCap', 'pctWInvInc', 'TotalPctDiv', 'PctBSorMore', 'MedOwnCostPctInc', 'PctLargHouseFam', 'PersPerOccupHous', 'PctLess9thGrade', 'PctHousLess3BR', 'pctWSocSec', 'PctPersOwnOccup', 'racePctHisp', 'HispPerCap', 'NumIlleg', 'NumInShelters', 'NumImmig', 'RentHighQ', 'PctForeignBorn', 'PctNotSpeakEnglWell', 'PersPerRentOccHous', 'PctHousOwnOcc']\n",
    "X_fa = X[features_f_a]\n",
    "model_fa = sm.OLS(y,sm.add_constant(X_fa)).fit()\n",
    "model_fa.summary()"
   ]
  },
  {
   "cell_type": "code",
   "execution_count": null,
   "metadata": {},
   "outputs": [],
   "source": [
    "features_fr = ['PctKids2Par', 'racePctWhite', 'HousVacant', 'pctUrban', 'PctWorkMom', 'NumStreet', 'MalePctDivorce', 'PctIlleg', 'numbUrban', 'PctPersDenseHous', 'racepctblack', 'agePct12t29', 'MedOwnCostPctIncNoMtg', 'OtherPerCap', 'pctWRetire', 'PctPopUnderPov', 'pctWWage', 'PctVacantBoarded', 'MedRentPctHousInc', 'RentLowQ', 'MedRent', 'whitePerCap', 'MalePctNevMarr', 'PctEmploy', 'PctVacMore6Mos', 'PctHousOccup', 'agePct16t24', 'AsianPerCap', 'pctWFarmSelf', 'indianPerCap', 'pctWInvInc', 'TotalPctDiv', 'PctBSorMore', 'MedOwnCostPctInc', 'PctLargHouseFam', 'PersPerOccupHous', 'PctLess9thGrade', 'PctHousLess3BR', 'pctWSocSec', 'PctPersOwnOccup', 'racePctHisp', 'HispPerCap', 'NumIlleg', 'NumInShelters', 'NumImmig', 'RentHighQ', 'PctForeignBorn', 'PctNotSpeakEnglWell', 'PersPerRentOccHous', 'PctHousOwnOcc', 'blackPerCap', 'medFamInc', 'medIncome', 'PctWorkMomYoungKids', 'OwnOccLowQuart', 'OwnOccMedVal', 'PctSameCity85', 'MedNumBR', 'PctEmplManu']\n",
    "X_fr = X[features_fr]\n",
    "model_fa = sm.OLS(y,sm.add_constant(X_fr)).fit()\n",
    "model_fa.summary()"
   ]
  },
  {
   "cell_type": "code",
   "execution_count": null,
   "metadata": {},
   "outputs": [],
   "source": [
    "from sklearn.model_selection import GridSearchCV\n",
    "model = linear_model.Lasso()\n",
    "alphas = np.logspace(-10, 10, 100)\n",
    "\n",
    "tuned_parameters = [{'alpha': alphas}]\n",
    "n_folds = 10\n",
    "clf = GridSearchCV(model, tuned_parameters, cv=n_folds, refit=False, scoring='neg_mean_squared_error')\n",
    "clf.fit(X, y)\n",
    "scores = clf.cv_results_['mean_test_score']\n",
    "scores_std = clf.cv_results_['std_test_score']\n",
    "\n",
    "plt.figure().set_size_inches(8, 6)\n",
    "plt.semilogx(alphas, scores)\n",
    "plt.ylabel('test MSE')\n",
    "plt.xlabel('alpha')\n",
    "plt.axhline(np.max(scores), linestyle='--', color='.5')\n",
    "plt.xlim([alphas[0], alphas[-1]])\n",
    "plt.show()\n",
    "\n",
    "print(clf.best_params_)\n",
    "alpha = clf.best_params_[\"alpha\"]\n",
    "print(\"best \\lambda:\",2*alpha*y.shape[0])\n"
   ]
  },
  {
   "cell_type": "code",
   "execution_count": null,
   "metadata": {},
   "outputs": [],
   "source": [
    "from sklearn.linear_model import LassoCV\n",
    "lassocv = LassoCV(alphas=np.logspace(-10,10,10),cv = 10,max_iter=1e5)\n",
    "lassocv.fit(X, y)\n",
    "lassocv.alpha_  # 0.1 \n",
    "\n",
    "from sklearn.feature_selection import SelectFromModel\n",
    "selection = SelectFromModel(lassocv,prefit = True)\n",
    "\n",
    "selection.get_support()"
   ]
  },
  {
   "cell_type": "code",
   "execution_count": null,
   "metadata": {},
   "outputs": [],
   "source": [
    "sigx = []"
   ]
  },
  {
   "cell_type": "code",
   "execution_count": null,
   "metadata": {},
   "outputs": [],
   "source": [
    "sigx = []\n",
    "for i in range(len(selection.get_support())):\n",
    "    if selection.get_support()[i] == True:\n",
    "        sigx.append(X.columns[i])\n",
    "    "
   ]
  },
  {
   "cell_type": "code",
   "execution_count": null,
   "metadata": {},
   "outputs": [],
   "source": [
    "df1 = pd.DataFrame({'features:':sigx})"
   ]
  },
  {
   "cell_type": "code",
   "execution_count": null,
   "metadata": {},
   "outputs": [],
   "source": [
    "df1.to_latex()"
   ]
  },
  {
   "cell_type": "code",
   "execution_count": null,
   "metadata": {},
   "outputs": [],
   "source": [
    "X_slt = selection.transform(X)"
   ]
  },
  {
   "cell_type": "code",
   "execution_count": null,
   "metadata": {},
   "outputs": [],
   "source": [
    "sigxdf = pd.DataFrame(X_slt)"
   ]
  },
  {
   "cell_type": "code",
   "execution_count": null,
   "metadata": {},
   "outputs": [],
   "source": [
    "sigxdf.columns = sigx"
   ]
  },
  {
   "cell_type": "code",
   "execution_count": null,
   "metadata": {},
   "outputs": [],
   "source": [
    "sigxdf"
   ]
  },
  {
   "cell_type": "code",
   "execution_count": null,
   "metadata": {},
   "outputs": [],
   "source": [
    "X_slt.shape"
   ]
  },
  {
   "cell_type": "code",
   "execution_count": null,
   "metadata": {},
   "outputs": [],
   "source": [
    "model=sm.OLS(y,sm.add_constant(sigxdf)).fit()\n",
    "model.summary()"
   ]
  },
  {
   "cell_type": "code",
   "execution_count": null,
   "metadata": {},
   "outputs": [],
   "source": [
    "from sklearn.model_selection import GridSearchCV\n",
    "model = linear_model.Lasso(max_iter=1e5)\n",
    "alphas = np.logspace(-10, 10, 10)\n",
    "\n",
    "tuned_parameters = [{'alpha': alphas}]\n",
    "n_folds = 10\n",
    "\n",
    "clf = GridSearchCV(model, tuned_parameters, cv=n_folds, refit=False,scoring='neg_mean_squared_error')\n",
    "clf.fit(X, y)\n",
    "scores = clf.cv_results_['mean_test_score']\n",
    "scores_std = clf.cv_results_['std_test_score']\n",
    "\n",
    "print(clf.best_params_)\n",
    "alpha = clf.best_params_[\"alpha\"]\n",
    "print(\"best \\lambda:\",2*alpha*y.shape[0])\n"
   ]
  },
  {
   "cell_type": "code",
   "execution_count": null,
   "metadata": {},
   "outputs": [],
   "source": [
    "plt.style.use('ggplot')\n",
    "plt.figure().set_size_inches(6, 4)\n",
    "plt.xscale('log')\n",
    "plt.errorbar(y = scores,yerr=scores_std,x= alphas,fmt='o',ecolor='r',color='darkblue',elinewidth=1,capsize=5)\n",
    "plt.plot(alphas,scores,c = 'lightblue')\n",
    "plt.ylabel('test MSE')\n",
    "plt.xlabel('alpha')\n",
    "plt.axhline(np.max(scores), linestyle='--', color='.5')\n",
    "plt.title('test MSE-alpha')\n",
    "plt.savefig('lasso.png',dpi = 150)"
   ]
  },
  {
   "cell_type": "code",
   "execution_count": null,
   "metadata": {},
   "outputs": [],
   "source": [
    "X"
   ]
  },
  {
   "cell_type": "code",
   "execution_count": null,
   "metadata": {},
   "outputs": [],
   "source": [
    "form = \"\"\n",
    "for i in range(X.shape[1]):\n",
    "    form += \"s(\"+str(i)+\")+\""
   ]
  },
  {
   "cell_type": "code",
   "execution_count": null,
   "metadata": {},
   "outputs": [],
   "source": [
    "form "
   ]
  },
  {
   "cell_type": "code",
   "execution_count": null,
   "metadata": {},
   "outputs": [],
   "source": [
    "from pygam import LinearGAM, s, f\n",
    "\n",
    "gam = LinearGAM(s(0)+s(1)+s(2)+s(3)+s(4)+s(5)+s(6)+s(7)+s(8)+s(9)+s(10)+s(11)+s(12)+s(13)+s(14)+s(15)+s(16)+s(17)+s(18)+s(19)+s(20)+s(21)+s(22)+s(23)+s(24)+s(25)+s(26)+s(27)+s(28)+s(29)+s(30)+s(31)+s(32)+s(33)+s(34)+s(35)+s(36)+s(37)+s(38)+s(39)+s(40)+s(41)+s(42)+s(43)+s(44)+s(45)+s(46)+s(47)+s(48)+s(49)+s(50)+s(51)+s(52)+s(53)+s(54)+s(55)+s(56)+s(57)+s(58)+s(59)+s(60)+s(61)+s(62)+s(63)+s(64)+s(65)+s(66)+s(67)+s(68)+s(69)+s(70)+s(71)+s(72)+s(73)+s(74)+s(75)+s(76)+s(77)+s(78)+s(79)+s(80)+s(81)+s(82)+s(83)+s(84)+s(85)+s(86)+s(87)+s(88)+s(89)+s(90)+s(91)+s(92)+s(93)+s(94)+s(95)+s(96)).fit(X, y)"
   ]
  },
  {
   "cell_type": "code",
   "execution_count": null,
   "metadata": {},
   "outputs": [],
   "source": [
    "gam.summary()"
   ]
  },
  {
   "cell_type": "code",
   "execution_count": null,
   "metadata": {},
   "outputs": [],
   "source": [
    "lams = np.exp(np.random.rand(97, 97)*100 -3)\n",
    "gam.gridsearch(X, y, lam=lams)"
   ]
  },
  {
   "cell_type": "code",
   "execution_count": null,
   "metadata": {},
   "outputs": [],
   "source": [
    "s(0)+s(2)+s(10)+s(28)+s(33)+s(39)+s(44)+s(45)+s(48)+s(50)+s(51)++s(68)+s(70+s(73)+s(74)+s(90)"
   ]
  },
  {
   "cell_type": "code",
   "execution_count": null,
   "metadata": {},
   "outputs": [],
   "source": [
    "gam2 = LinearGAM(s(0)+s(2)+s(10)+s(28)+s(33)+s(39)+s(44)+s(45)+s(48)+s(50)+s(51)+s(68)+s(70)+s(73)+s(74)+s(90)).fit(X,y)\n",
    "\n",
    "lams = np.exp(np.random.rand(97, 97)*100 -3)\n",
    "gam2.gridsearch(X, y, lam=lams)"
   ]
  },
  {
   "cell_type": "code",
   "execution_count": null,
   "metadata": {},
   "outputs": [],
   "source": [
    "gam2s = gam2.gridsearch(X, y)"
   ]
  },
  {
   "cell_type": "code",
   "execution_count": null,
   "metadata": {},
   "outputs": [],
   "source": [
    "gam2s.summary()"
   ]
  },
  {
   "cell_type": "code",
   "execution_count": null,
   "metadata": {},
   "outputs": [],
   "source": [
    "s(0)+s(2)+s(10)+s(28)+s(33)+s(39)+s(44)+s(45)+s(48)+s(50)+s(51)++s(68)+s(70+s(73)+s(74)+s(90)"
   ]
  },
  {
   "cell_type": "code",
   "execution_count": null,
   "metadata": {},
   "outputs": [],
   "source": [
    "ll =[0,2,10,28,33,39,44,45,48,50,51,6870,73,74,90]"
   ]
  },
  {
   "cell_type": "code",
   "execution_count": null,
   "metadata": {},
   "outputs": [],
   "source": [
    "len(ll)"
   ]
  },
  {
   "cell_type": "code",
   "execution_count": null,
   "metadata": {},
   "outputs": [],
   "source": [
    "titles = [X.columns[i] for i in [0,2,10,28,33,39,44,45,48,50,51,68,70,73,74,90]]\n",
    "t = 0\n",
    "fig, axs = plt.subplots(3,5,figsize = (30,20),dpi =140)\n",
    "plt.style.use('seaborn-paper')\n",
    "plt.subplots_adjust(wspace =0.0, hspace =0.2)#调整子图间距\n",
    "\n",
    "for i in range(3):\n",
    "    for j in range(5):\n",
    "        XX = gam.generate_X_grid(term=t)\n",
    "        pdep, confi = gam2s.partial_dependence(term=t, width=.95)\n",
    "        axs[i][j].plot(XX[:, t], pdep)\n",
    "        axs[i][j].plot(XX[:, t], confi, c='b', ls='--')\n",
    "        axs[i][j].set_title(titles[t])\n",
    "        t+=1\n",
    "        \n",
    "plt.savefig(\"gam2s.png\")"
   ]
  },
  {
   "cell_type": "code",
   "execution_count": null,
   "metadata": {},
   "outputs": [],
   "source": [
    "x = df.iloc[:,5:-1]"
   ]
  },
  {
   "cell_type": "code",
   "execution_count": null,
   "metadata": {},
   "outputs": [],
   "source": [
    "from scipy import stats"
   ]
  },
  {
   "cell_type": "code",
   "execution_count": null,
   "metadata": {},
   "outputs": [],
   "source": [
    "x.apply(,axis= 1)"
   ]
  },
  {
   "cell_type": "code",
   "execution_count": null,
   "metadata": {},
   "outputs": [],
   "source": [
    "stats.shapiro(x.iloc[:,3])[1]"
   ]
  },
  {
   "cell_type": "code",
   "execution_count": null,
   "metadata": {},
   "outputs": [],
   "source": []
  },
  {
   "cell_type": "code",
   "execution_count": null,
   "metadata": {},
   "outputs": [],
   "source": [
    "res = []\n",
    "for i in range(x.shape[1]):\n",
    "    if stats.shapiro(x.iloc[:,i])[1]>0.05:\n",
    "        print(\"True\")\n",
    "        res.append(1)\n",
    "    else:\n",
    "        print(\"False\")\n",
    "        res.append(0)"
   ]
  },
  {
   "cell_type": "code",
   "execution_count": null,
   "metadata": {},
   "outputs": [],
   "source": [
    "(np.array(res) == 1).sum()"
   ]
  },
  {
   "cell_type": "code",
   "execution_count": null,
   "metadata": {},
   "outputs": [],
   "source": []
  }
 ],
 "metadata": {
  "kernelspec": {
   "display_name": "Python 3.8.8 64-bit ('anaconda3-2021.05': pyenv)",
   "name": "python388jvsc74a57bd09b73e67f70ceb6d5b97bcb030d8fec385a817fa3964ac641deac3f763fb4943b"
  },
  "language_info": {
   "name": "python",
   "version": ""
  },
  "metadata": {
   "interpreter": {
    "hash": "09b947ba581bcc337bc7c28ed026ab68f0805dc98e756a19c45c9bd5e23e2d3d"
   }
  },
  "orig_nbformat": 2
 },
 "nbformat": 4,
 "nbformat_minor": 2
}