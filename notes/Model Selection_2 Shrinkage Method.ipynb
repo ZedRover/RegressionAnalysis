{
 "cells": [
  {
   "cell_type": "code",
   "execution_count": 1,
   "source": [
    "import statsmodels.api as sm\n",
    "import statsmodels.formula.api as smf\n",
    "from sklearn import datasets ## imports datasets from scikit-learn\n",
    "import numpy as np\n",
    "import pandas as pd\n",
    "import matplotlib.pyplot as plt\n",
    "import warnings\n",
    "warnings.filterwarnings('ignore')"
   ],
   "outputs": [],
   "metadata": {
    "collapsed": true
   }
  },
  {
   "cell_type": "markdown",
   "source": [
    "# Load Datasets"
   ],
   "metadata": {}
  },
  {
   "cell_type": "code",
   "execution_count": null,
   "source": [
    "data = datasets.load_boston() ## loads Boston dataset from datasets library \n",
    "\n",
    "df = pd.DataFrame(data.data, columns=data.feature_names)\n",
    "target = pd.DataFrame(data.target, columns=[\"MEDV\"])\n",
    "# Concatenate y in the dataframe\n",
    "df_target = pd.concat([df,target], axis=1)"
   ],
   "outputs": [],
   "metadata": {
    "collapsed": true
   }
  },
  {
   "cell_type": "markdown",
   "source": [
    "# Some Exploration"
   ],
   "metadata": {}
  },
  {
   "cell_type": "markdown",
   "source": [
    "## 1. When variables are centered, the intercept term is always 0"
   ],
   "metadata": {}
  },
  {
   "cell_type": "code",
   "execution_count": null,
   "source": [
    "# This is to show that when all variables are centered, the intercept beta_0 is always 0.\n",
    "df_centered = df_target - df_target.mean(axis=0)\n",
    "model = smf.ols(formula='MEDV ~ CHAS + RM + AGE', data=df_centered).fit()\n",
    "model.summary()"
   ],
   "outputs": [],
   "metadata": {
    "scrolled": false
   }
  },
  {
   "cell_type": "markdown",
   "source": [
    "## 2. Standardization"
   ],
   "metadata": {}
  },
  {
   "cell_type": "markdown",
   "source": [],
   "metadata": {}
  },
  {
   "cell_type": "code",
   "execution_count": null,
   "source": [
    "from sklearn.preprocessing import StandardScaler\n",
    "data = pd.DataFrame([[0, 0], [0, 0], [1, 1], [1, 1]],dtype=np.float64)\n",
    "scaler = StandardScaler() # call the scaler function\n",
    "scaler.fit(data) # use the scaler to fit the data\n",
    "print('mean of data', scaler.mean_, 'variance of data', scaler.var_)\n",
    "\n",
    "data_scaled = scaler.transform(data) # use transform to obtain the scaled data\n",
    "print('scaled data is\\n', data_scaled)\n",
    "\n",
    "print(scaler.transform([[2, 2]]))   # Now we can transform any data points"
   ],
   "outputs": [],
   "metadata": {}
  },
  {
   "cell_type": "code",
   "execution_count": null,
   "source": [
    "data"
   ],
   "outputs": [],
   "metadata": {}
  },
  {
   "cell_type": "markdown",
   "source": [
    "# Lasso and Ridge"
   ],
   "metadata": {}
  },
  {
   "cell_type": "markdown",
   "source": [
    "## 1. Without Cross-validation"
   ],
   "metadata": {}
  },
  {
   "cell_type": "markdown",
   "source": [
    "### 1.1 Lasso (use sklearn package) "
   ],
   "metadata": {}
  },
  {
   "cell_type": "markdown",
   "source": [
    "The objective for Lasso is: \n",
    "$\\frac{1}{2n}||y - X\\beta||^2_2 + \\alpha * ||\\beta||_1$"
   ],
   "metadata": {}
  },
  {
   "cell_type": "code",
   "execution_count": null,
   "source": [
    "# First step, transformation\n",
    "from sklearn.preprocessing import StandardScaler\n",
    "y = target\n",
    "df_dummy = pd.get_dummies(df, columns = ['CHAS'],drop_first = True) # Change categorical to one-hot\n",
    "X = df_dummy.drop(columns=['ZN','INDUS','NOX','RAD','AGE','PTRATIO','B']) # we don't include these variables in the model\n",
    "scaler_x, scaler_y = StandardScaler(), StandardScaler()\n",
    "scaler_x.fit(X)\n",
    "scaler_y.fit(y)\n",
    "X = scaler_x.transform(X)\n",
    "y = scaler_y.transform(y)"
   ],
   "outputs": [],
   "metadata": {
    "collapsed": true
   }
  },
  {
   "cell_type": "code",
   "execution_count": null,
   "source": [
    "# Lasso\n",
    "from sklearn.linear_model import Lasso      # Runs Lasso with a given parameter\n",
    "model = Lasso(alpha=0.15)                    # Here alpha is like lambda in our slide\n",
    "model.fit(X, y)"
   ],
   "outputs": [],
   "metadata": {}
  },
  {
   "cell_type": "code",
   "execution_count": null,
   "source": [
    "print(model.coef_)         # beta_1, beta_2,...,beta_6\n",
    "print(model.intercept_)    # beta_0 (we see that with the transformation, beta_0 = 0)\n",
    "print(model.score(X,y))    # R^2\n",
    "y_pred = model.predict(X)  # Predicting y given X\n",
    "print(y_pred[:5])"
   ],
   "outputs": [],
   "metadata": {}
  },
  {
   "cell_type": "markdown",
   "source": [
    "### 1.2 Ridge (sklearn)"
   ],
   "metadata": {}
  },
  {
   "cell_type": "markdown",
   "source": [
    "The objective for ridge is: \n",
    "$||y - X\\beta||^2_2 + \\alpha * ||\\beta||^2_2$"
   ],
   "metadata": {}
  },
  {
   "cell_type": "code",
   "execution_count": null,
   "source": [
    "# Ridge\n",
    "from sklearn.linear_model import Ridge      # Runs Ridge with a given parameter\n",
    "model = Ridge(alpha=0.15*(2*len(y)))        # Here alpha is like lambda in our slide\n",
    "model.fit(X, y)"
   ],
   "outputs": [],
   "metadata": {}
  },
  {
   "cell_type": "code",
   "execution_count": null,
   "source": [
    "print(model.coef_)         # beta_1, beta_2,...,beta_6\n",
    "print(model.intercept_)    # beta_0\n",
    "print(model.score(X,y))    # R^2\n",
    "y_pred = model.predict(X)\n",
    "y_pred = model.predict(X)  # Predicting y given X\n",
    "print(y_pred[:5])"
   ],
   "outputs": [],
   "metadata": {}
  },
  {
   "cell_type": "markdown",
   "source": [
    "### 1.3 Lasso and Ridge using statsmodels package"
   ],
   "metadata": {}
  },
  {
   "cell_type": "markdown",
   "source": [
    "#### Full model"
   ],
   "metadata": {}
  },
  {
   "cell_type": "code",
   "execution_count": null,
   "source": [
    "import statsmodels.api as sm\n",
    "model = sm.OLS(y, X).fit() ## sm.OLS(output, input)\n",
    "model.summary()"
   ],
   "outputs": [],
   "metadata": {
    "scrolled": true
   }
  },
  {
   "cell_type": "markdown",
   "source": [
    "#### lasso"
   ],
   "metadata": {}
  },
  {
   "cell_type": "markdown",
   "source": [
    "The objective for this package is:\n",
    "    $\\frac{1}{2n}||y - X\\beta||^2_2 +\\alpha\\left(0.5*(1−𝐿1\\_𝑤𝑡)∗||\\beta||^2_2+𝐿1\\_𝑤𝑡∗||\\beta||_1\\right)$"
   ],
   "metadata": {}
  },
  {
   "cell_type": "code",
   "execution_count": null,
   "source": [
    "model = sm.OLS(y, X).fit_regularized(alpha=0.15, L1_wt=1.0) # Lasso\n",
    "print(model.params)"
   ],
   "outputs": [],
   "metadata": {}
  },
  {
   "cell_type": "markdown",
   "source": [
    "#### Ridge"
   ],
   "metadata": {}
  },
  {
   "cell_type": "code",
   "execution_count": null,
   "source": [
    "model = sm.OLS(y, X).fit_regularized(alpha=0.15*(2), L1_wt=0)  # Ridge (Need to pay attention to the built-in objective)\n",
    "print(model.params)"
   ],
   "outputs": [],
   "metadata": {}
  },
  {
   "cell_type": "markdown",
   "source": [
    "## 2. Lasso and Ridge with Cross-Validation"
   ],
   "metadata": {}
  },
  {
   "cell_type": "markdown",
   "source": [
    "### 2.1 Split data in Kfold"
   ],
   "metadata": {}
  },
  {
   "cell_type": "code",
   "execution_count": null,
   "source": [
    "from sklearn.model_selection import KFold\n",
    "kf = KFold(n_splits=5) # do not shuffle\n",
    "print(kf)"
   ],
   "outputs": [],
   "metadata": {}
  },
  {
   "cell_type": "code",
   "execution_count": null,
   "source": [
    "for train_index, test_index in kf.split(X):\n",
    "    print(\"TRAIN:\", train_index, \"TEST:\", test_index)"
   ],
   "outputs": [],
   "metadata": {}
  },
  {
   "cell_type": "code",
   "execution_count": null,
   "source": [
    "from sklearn.model_selection import KFold\n",
    "kf = KFold(n_splits=5, shuffle=True) # shuffle\n",
    "print(kf)"
   ],
   "outputs": [],
   "metadata": {}
  },
  {
   "cell_type": "code",
   "execution_count": null,
   "source": [
    "for train_index, test_index in kf.split(X):\n",
    "    print(\"TRAIN:\", train_index, \"TEST:\", test_index)"
   ],
   "outputs": [],
   "metadata": {}
  },
  {
   "cell_type": "markdown",
   "source": [
    "We don't need to use the above K-fold function for cross-validation. The built-in function already does this for us"
   ],
   "metadata": {}
  },
  {
   "cell_type": "markdown",
   "source": [
    "### 2.2 We can use the builtin Package cross_val_score to evaluate the model"
   ],
   "metadata": {}
  },
  {
   "cell_type": "code",
   "execution_count": null,
   "source": [
    "from sklearn.model_selection import cross_val_score\n",
    "model = Lasso(alpha=0.15)                    # Here alpha is like lambda in our slide\n",
    "print(cross_val_score(model, X, y, cv=5, scoring='neg_mean_squared_error'))\n",
    "# Output the cross validation score for each fold"
   ],
   "outputs": [],
   "metadata": {}
  },
  {
   "cell_type": "code",
   "execution_count": null,
   "source": [
    "from sklearn.model_selection import cross_val_score\n",
    "model = Ridge(alpha=0.15*(2*len(y)))                    # Here alpha is like lambda in our slide\n",
    "print(cross_val_score(model, X, y, cv=5, scoring='neg_mean_squared_error'))\n",
    "# Output the cross validation score for each fold"
   ],
   "outputs": [],
   "metadata": {}
  },
  {
   "cell_type": "code",
   "execution_count": null,
   "source": [
    "### 2.3 Grid Search and CV search for the best lambda"
   ],
   "outputs": [],
   "metadata": {}
  },
  {
   "cell_type": "code",
   "execution_count": null,
   "source": [
    "# First step, transformation\n",
    "from sklearn.preprocessing import StandardScaler\n",
    "y = target\n",
    "df_dummy = pd.get_dummies(df, columns = ['CHAS'],drop_first = True) # Change categorical to one-hot\n",
    "X = df_dummy\n",
    "scaler_x, scaler_y = StandardScaler(), StandardScaler()\n",
    "scaler_x.fit(X)\n",
    "scaler_y.fit(y)\n",
    "X = scaler_x.transform(X)\n",
    "y = scaler_y.transform(y)"
   ],
   "outputs": [],
   "metadata": {
    "collapsed": true
   }
  },
  {
   "cell_type": "code",
   "execution_count": null,
   "source": [
    "from sklearn.model_selection import GridSearchCV\n",
    "model = Lasso()\n",
    "alphas = np.logspace(-10, 10, 100)\n",
    "\n",
    "tuned_parameters = [{'alpha': alphas}]\n",
    "n_folds = 5\n",
    "\n",
    "clf = GridSearchCV(model, tuned_parameters, cv=n_folds, refit=False, scoring='neg_mean_squared_error')\n",
    "clf.fit(X, y)\n",
    "scores = clf.cv_results_['mean_test_score']\n",
    "scores_std = clf.cv_results_['std_test_score']\n",
    "\n",
    "plt.figure().set_size_inches(8, 6)\n",
    "plt.semilogx(alphas, scores)\n",
    "plt.ylabel('test MSE')\n",
    "plt.xlabel('alpha')\n",
    "plt.axhline(np.max(scores), linestyle='--', color='.5')\n",
    "plt.xlim([alphas[0], alphas[-1]])\n",
    "plt.show()\n",
    "\n",
    "print(clf.best_params_)"
   ],
   "outputs": [],
   "metadata": {}
  },
  {
   "cell_type": "code",
   "execution_count": null,
   "source": [
    "from sklearn.model_selection import GridSearchCV\n",
    "model = Ridge()\n",
    "alphas = np.logspace(-10, 10, 100)\n",
    "\n",
    "tuned_parameters = [{'alpha': alphas}]\n",
    "n_folds = 5\n",
    "\n",
    "clf = GridSearchCV(model, tuned_parameters, cv=n_folds, refit=False, scoring='neg_mean_squared_error')\n",
    "clf.fit(X, y)\n",
    "scores = clf.cv_results_['mean_test_score']\n",
    "scores_std = clf.cv_results_['std_test_score']\n",
    "\n",
    "plt.figure().set_size_inches(8, 6)\n",
    "plt.semilogx(alphas, scores)\n",
    "plt.ylabel('test MSE')\n",
    "plt.xlabel('alpha')\n",
    "plt.axhline(np.max(scores), linestyle='--', color='.5')\n",
    "plt.xlim([alphas[0], alphas[-1]])\n",
    "plt.show()\n",
    "\n",
    "print(clf.best_params_)"
   ],
   "outputs": [],
   "metadata": {}
  },
  {
   "cell_type": "code",
   "execution_count": null,
   "source": [],
   "outputs": [],
   "metadata": {
    "collapsed": true
   }
  }
 ],
 "metadata": {
  "kernelspec": {
   "name": "python3",
   "display_name": "Python 3.8.8 64-bit ('anaconda3-2021.05': pyenv)"
  },
  "language_info": {
   "codemirror_mode": {
    "name": "ipython",
    "version": 3
   },
   "file_extension": ".py",
   "mimetype": "text/x-python",
   "name": "python",
   "nbconvert_exporter": "python",
   "pygments_lexer": "ipython3",
   "version": "3.8.8"
  },
  "interpreter": {
   "hash": "9b73e67f70ceb6d5b97bcb030d8fec385a817fa3964ac641deac3f763fb4943b"
  }
 },
 "nbformat": 4,
 "nbformat_minor": 2
}