{
 "cells": [
  {
   "cell_type": "code",
   "execution_count": 1,
   "metadata": {
    "collapsed": true
   },
   "outputs": [],
   "source": [
    "import statsmodels.api as sm\n",
    "import statsmodels.formula.api as smf\n",
    "from sklearn import datasets ## imports datasets from scikit-learn\n",
    "import numpy as np\n",
    "import pandas as pd\n",
    "import matplotlib.pyplot as plt\n",
    "import warnings\n",
    "warnings.filterwarnings('ignore')"
   ]
  },
  {
   "cell_type": "markdown",
   "metadata": {},
   "source": [
    "# Load Datasets"
   ]
  },
  {
   "cell_type": "code",
   "execution_count": 2,
   "metadata": {
    "collapsed": true
   },
   "outputs": [],
   "source": [
    "target = [5630,5755,6094,6722,7524,8594,8759,12123,13827,15968,18576,19251,23052,26769,29317,31936,35397,39195,43618,48796]\n",
    "x1 = [78803,83818,89367,99066,109276,120480,136576,161415,185999,219029,270844,321501,348499,411265,484753,539117,590422,644791,686450,740599]\n",
    "x2 = [1219,1319,1453,1609,1802,2053,2383,2694,3160,3697,4358,5100,6281,7802,9356,10933,12670,14598,16285,18575]\n",
    "x3 = [910927,994130,998921,994000,1036737,1063238,1034276,1155219,1142569,1147337,1295543,1341674,1425186,1695000,1996184,1995402,2602850,2870004,2922796,3520129]\n",
    "x4 = [93308,95085,100164,105073,105155,105606,97260,111764,115583,125656,135670,146193,152451,167609,186226,189337,210597,230460,253484,281405]\n",
    "x5 = [644,695,719,744,784,878,870,1102,1212,1394,1610,1712,1902,2103,2641,2957,3262,3611,4000,4440]"
   ]
  },
  {
   "cell_type": "code",
   "execution_count": 3,
   "metadata": {
    "collapsed": true
   },
   "outputs": [],
   "source": [
    "df_x = pd.DataFrame(list(zip(x1,x2,x3,x4,x5)),columns=['x1','x2','x3','x4','x5'])"
   ]
  },
  {
   "cell_type": "code",
   "execution_count": 4,
   "metadata": {},
   "outputs": [
    {
     "data": {
      "text/html": [
       "<div>\n",
       "<style scoped>\n",
       "    .dataframe tbody tr th:only-of-type {\n",
       "        vertical-align: middle;\n",
       "    }\n",
       "\n",
       "    .dataframe tbody tr th {\n",
       "        vertical-align: top;\n",
       "    }\n",
       "\n",
       "    .dataframe thead th {\n",
       "        text-align: right;\n",
       "    }\n",
       "</style>\n",
       "<table border=\"1\" class=\"dataframe\">\n",
       "  <thead>\n",
       "    <tr style=\"text-align: right;\">\n",
       "      <th></th>\n",
       "      <th>x1</th>\n",
       "      <th>x2</th>\n",
       "      <th>x3</th>\n",
       "      <th>x4</th>\n",
       "      <th>x5</th>\n",
       "    </tr>\n",
       "  </thead>\n",
       "  <tbody>\n",
       "    <tr>\n",
       "      <th>0</th>\n",
       "      <td>78803</td>\n",
       "      <td>1219</td>\n",
       "      <td>910927</td>\n",
       "      <td>93308</td>\n",
       "      <td>644</td>\n",
       "    </tr>\n",
       "    <tr>\n",
       "      <th>1</th>\n",
       "      <td>83818</td>\n",
       "      <td>1319</td>\n",
       "      <td>994130</td>\n",
       "      <td>95085</td>\n",
       "      <td>695</td>\n",
       "    </tr>\n",
       "    <tr>\n",
       "      <th>2</th>\n",
       "      <td>89367</td>\n",
       "      <td>1453</td>\n",
       "      <td>998921</td>\n",
       "      <td>100164</td>\n",
       "      <td>719</td>\n",
       "    </tr>\n",
       "    <tr>\n",
       "      <th>3</th>\n",
       "      <td>99066</td>\n",
       "      <td>1609</td>\n",
       "      <td>994000</td>\n",
       "      <td>105073</td>\n",
       "      <td>744</td>\n",
       "    </tr>\n",
       "    <tr>\n",
       "      <th>4</th>\n",
       "      <td>109276</td>\n",
       "      <td>1802</td>\n",
       "      <td>1036737</td>\n",
       "      <td>105155</td>\n",
       "      <td>784</td>\n",
       "    </tr>\n",
       "  </tbody>\n",
       "</table>\n",
       "</div>"
      ],
      "text/plain": [
       "       x1    x2       x3      x4   x5\n",
       "0   78803  1219   910927   93308  644\n",
       "1   83818  1319   994130   95085  695\n",
       "2   89367  1453   998921  100164  719\n",
       "3   99066  1609   994000  105073  744\n",
       "4  109276  1802  1036737  105155  784"
      ]
     },
     "execution_count": 4,
     "metadata": {},
     "output_type": "execute_result"
    }
   ],
   "source": [
    "df_x.head()"
   ]
  },
  {
   "cell_type": "markdown",
   "metadata": {},
   "source": [
    "# PCA"
   ]
  },
  {
   "cell_type": "code",
   "execution_count": 5,
   "metadata": {
    "collapsed": true
   },
   "outputs": [],
   "source": [
    "from sklearn.decomposition import PCA"
   ]
  },
  {
   "cell_type": "code",
   "execution_count": 6,
   "metadata": {
    "collapsed": true
   },
   "outputs": [],
   "source": [
    "# First standarize the data\n",
    "from sklearn.preprocessing import StandardScaler\n",
    "scaler = StandardScaler()\n",
    "scaler.fit(df_x)\n",
    "X = scaler.transform(df_x)"
   ]
  },
  {
   "cell_type": "code",
   "execution_count": 7,
   "metadata": {},
   "outputs": [
    {
     "data": {
      "text/plain": [
       "PCA(copy=True, iterated_power='auto', n_components=5, random_state=None,\n",
       "  svd_solver='auto', tol=0.0, whiten=False)"
      ]
     },
     "execution_count": 7,
     "metadata": {},
     "output_type": "execute_result"
    }
   ],
   "source": [
    "pca = PCA(n_components=5)\n",
    "pca.fit(X)"
   ]
  },
  {
   "cell_type": "code",
   "execution_count": 8,
   "metadata": {
    "scrolled": true
   },
   "outputs": [
    {
     "name": "stdout",
     "output_type": "stream",
     "text": [
      "Original variables:\n",
      "[[-1.08124563 -0.9582024  -0.91120889 -1.02342954 -1.03251046]\n",
      " [-1.05839508 -0.93959056 -0.80230686 -0.99157749 -0.98934814]\n",
      " [-1.03311139 -0.9146507  -0.79603606 -0.90053834 -0.96903645]\n",
      " [-0.98891847 -0.88561624 -0.80247702 -0.81254637 -0.94787845]\n",
      " [-0.94239721 -0.8496954  -0.74653978 -0.81107656 -0.91402565]]\n",
      "Principal components:\n",
      "[[-2.23911567  0.12437751  0.02044728  0.03027781  0.02424569]\n",
      " [-2.13852452  0.18381989  0.04025636  0.00512461 -0.00622853]\n",
      " [-2.06334478  0.17207536 -0.0224991  -0.00547307  0.00645176]\n",
      " [-1.98453714  0.13903106 -0.07921226 -0.01759146  0.02547645]\n",
      " [-1.90696859  0.14698501 -0.03918968 -0.02362789  0.02183102]]\n"
     ]
    }
   ],
   "source": [
    "pca_X = pca.transform(X)\n",
    "\n",
    "print('Original variables:')\n",
    "print(X[:5])\n",
    "print('Principal components:')\n",
    "print(pca_X[:5])"
   ]
  },
  {
   "cell_type": "code",
   "execution_count": 9,
   "metadata": {},
   "outputs": [
    {
     "data": {
      "text/plain": [
       "array([[ 0.44563655,  0.44890755,  0.44450167,  0.44833596,  0.44866827],\n",
       "       [-0.63394479,  0.08219043,  0.74069083,  0.01943935, -0.20581042],\n",
       "       [ 0.36118173,  0.15856436,  0.32097481, -0.86068123,  0.02465961],\n",
       "       [-0.50133428,  0.58288077, -0.35313756, -0.22079147,  0.48524112],\n",
       "       [ 0.13316816,  0.65332541, -0.1614447 ,  0.09537261, -0.7212987 ]])"
      ]
     },
     "execution_count": 9,
     "metadata": {},
     "output_type": "execute_result"
    }
   ],
   "source": [
    "# This shows the matrix phi for the transformation\n",
    "pca.components_"
   ]
  },
  {
   "cell_type": "code",
   "execution_count": 10,
   "metadata": {},
   "outputs": [
    {
     "name": "stdout",
     "output_type": "stream",
     "text": [
      "[9.90706283e-01 7.42310400e-03 1.12674449e-03 4.72183966e-04\n",
      " 2.71684452e-04]\n"
     ]
    }
   ],
   "source": [
    "# The percentage variance explained for each principal components\n",
    "print(pca.explained_variance_ratio_)"
   ]
  },
  {
   "cell_type": "code",
   "execution_count": 11,
   "metadata": {},
   "outputs": [],
   "source": [
    "# Let's obtain the above $ explained variance using the covariance matrix\n",
    "eig_val, eig_vec = np.linalg.eig(np.cov(X.T))"
   ]
  },
  {
   "cell_type": "code",
   "execution_count": 12,
   "metadata": {},
   "outputs": [
    {
     "name": "stdout",
     "output_type": "stream",
     "text": [
      "0.9907062830899938\n",
      "0.007423103997841565\n",
      "0.0011267444937409425\n",
      "0.0004721839659892248\n",
      "0.0002716844524343766\n"
     ]
    }
   ],
   "source": [
    "# % Variance expalined\n",
    "for e in eig_val:\n",
    "    print(e/eig_val.sum())"
   ]
  },
  {
   "cell_type": "code",
   "execution_count": 13,
   "metadata": {},
   "outputs": [
    {
     "data": {
      "text/plain": [
       "array([[ 0.44563655,  0.44890755,  0.44450167,  0.44833596,  0.44866827],\n",
       "       [-0.63394479,  0.08219043,  0.74069083,  0.01943935, -0.20581042],\n",
       "       [-0.36118173, -0.15856436, -0.32097481,  0.86068123, -0.02465961],\n",
       "       [ 0.50133428, -0.58288077,  0.35313756,  0.22079147, -0.48524112],\n",
       "       [-0.13316816, -0.65332541,  0.1614447 , -0.09537261,  0.7212987 ]])"
      ]
     },
     "execution_count": 13,
     "metadata": {},
     "output_type": "execute_result"
    }
   ],
   "source": [
    "eig_vec.T"
   ]
  },
  {
   "cell_type": "code",
   "execution_count": 14,
   "metadata": {},
   "outputs": [
    {
     "data": {
      "image/png": "[encoded data removed]",
      "text/plain": [
       "<Figure size 432x288 with 1 Axes>"
      ]
     },
     "metadata": {},
     "output_type": "display_data"
    }
   ],
   "source": [
    "# Making the scree plot\n",
    "PC_values = np.arange(pca.n_components_) + 1\n",
    "plt.plot(PC_values, pca.explained_variance_ratio_, 'ro-', linewidth=2)\n",
    "plt.title('Scree Plot')\n",
    "plt.xlabel('Principal Component')\n",
    "plt.ylabel('Proportion of Variance Explained')\n",
    "plt.show()"
   ]
  },
  {
   "cell_type": "code",
   "execution_count": 15,
   "metadata": {},
   "outputs": [
    {
     "name": "stdout",
     "output_type": "stream",
     "text": [
      "[1.33226763e-16 8.32667268e-18 6.93889390e-18 9.71445147e-18\n",
      " 6.93889390e-18]\n"
     ]
    }
   ],
   "source": [
    "# Each pricipal components also have 0 mean\n",
    "pc_mean = np.mean(pca_X,axis=0)\n",
    "print(pc_mean)"
   ]
  },
  {
   "cell_type": "code",
   "execution_count": 16,
   "metadata": {
    "collapsed": true
   },
   "outputs": [],
   "source": [
    "# Let's comfirm that we can also use SVD to obtain PCA\n",
    "U,S,V = np.linalg.svd(X)"
   ]
  },
  {
   "cell_type": "code",
   "execution_count": 17,
   "metadata": {},
   "outputs": [
    {
     "data": {
      "text/plain": [
       "array([[ 0.44563655,  0.44890755,  0.44450167,  0.44833596,  0.44866827],\n",
       "       [-0.63394479,  0.08219043,  0.74069083,  0.01943935, -0.20581042],\n",
       "       [ 0.36118173,  0.15856436,  0.32097481, -0.86068123,  0.02465961],\n",
       "       [ 0.50133428, -0.58288077,  0.35313756,  0.22079147, -0.48524112],\n",
       "       [-0.13316816, -0.65332541,  0.1614447 , -0.09537261,  0.7212987 ]])"
      ]
     },
     "execution_count": 17,
     "metadata": {},
     "output_type": "execute_result"
    }
   ],
   "source": [
    "V"
   ]
  },
  {
   "cell_type": "markdown",
   "metadata": {},
   "source": [
    "# PCR"
   ]
  },
  {
   "cell_type": "code",
   "execution_count": 18,
   "metadata": {
    "collapsed": true
   },
   "outputs": [],
   "source": [
    "# First standarize the data\n",
    "from sklearn.preprocessing import StandardScaler\n",
    "scaler_y = StandardScaler()\n",
    "scaler_y.fit(np.array(target).reshape(-1,1))\n",
    "y = scaler_y.transform(np.array(target).reshape(-1,1))"
   ]
  },
  {
   "cell_type": "code",
   "execution_count": 19,
   "metadata": {
    "collapsed": true
   },
   "outputs": [],
   "source": [
    "# create a data frame\n",
    "df_pca = pd.DataFrame(pca_X,columns=['z_1','z_2','z_3','z_4','z_5'])\n",
    "df_pca['y'] = y"
   ]
  },
  {
   "cell_type": "code",
   "execution_count": 20,
   "metadata": {},
   "outputs": [
    {
     "data": {
      "text/html": [
       "<div>\n",
       "<style scoped>\n",
       "    .dataframe tbody tr th:only-of-type {\n",
       "        vertical-align: middle;\n",
       "    }\n",
       "\n",
       "    .dataframe tbody tr th {\n",
       "        vertical-align: top;\n",
       "    }\n",
       "\n",
       "    .dataframe thead th {\n",
       "        text-align: right;\n",
       "    }\n",
       "</style>\n",
       "<table border=\"1\" class=\"dataframe\">\n",
       "  <thead>\n",
       "    <tr style=\"text-align: right;\">\n",
       "      <th></th>\n",
       "      <th>z_1</th>\n",
       "      <th>z_2</th>\n",
       "      <th>z_3</th>\n",
       "      <th>z_4</th>\n",
       "      <th>z_5</th>\n",
       "      <th>y</th>\n",
       "    </tr>\n",
       "  </thead>\n",
       "  <tbody>\n",
       "    <tr>\n",
       "      <th>0</th>\n",
       "      <td>-2.239116</td>\n",
       "      <td>0.124378</td>\n",
       "      <td>0.020447</td>\n",
       "      <td>0.030278</td>\n",
       "      <td>0.024246</td>\n",
       "      <td>-1.099130</td>\n",
       "    </tr>\n",
       "    <tr>\n",
       "      <th>1</th>\n",
       "      <td>-2.138525</td>\n",
       "      <td>0.183820</td>\n",
       "      <td>0.040256</td>\n",
       "      <td>0.005125</td>\n",
       "      <td>-0.006229</td>\n",
       "      <td>-1.089794</td>\n",
       "    </tr>\n",
       "    <tr>\n",
       "      <th>2</th>\n",
       "      <td>-2.063345</td>\n",
       "      <td>0.172075</td>\n",
       "      <td>-0.022499</td>\n",
       "      <td>-0.005473</td>\n",
       "      <td>0.006452</td>\n",
       "      <td>-1.064473</td>\n",
       "    </tr>\n",
       "    <tr>\n",
       "      <th>3</th>\n",
       "      <td>-1.984537</td>\n",
       "      <td>0.139031</td>\n",
       "      <td>-0.079212</td>\n",
       "      <td>-0.017591</td>\n",
       "      <td>0.025476</td>\n",
       "      <td>-1.017565</td>\n",
       "    </tr>\n",
       "    <tr>\n",
       "      <th>4</th>\n",
       "      <td>-1.906969</td>\n",
       "      <td>0.146985</td>\n",
       "      <td>-0.039190</td>\n",
       "      <td>-0.023628</td>\n",
       "      <td>0.021831</td>\n",
       "      <td>-0.957660</td>\n",
       "    </tr>\n",
       "  </tbody>\n",
       "</table>\n",
       "</div>"
      ],
      "text/plain": [
       "        z_1       z_2       z_3       z_4       z_5         y\n",
       "0 -2.239116  0.124378  0.020447  0.030278  0.024246 -1.099130\n",
       "1 -2.138525  0.183820  0.040256  0.005125 -0.006229 -1.089794\n",
       "2 -2.063345  0.172075 -0.022499 -0.005473  0.006452 -1.064473\n",
       "3 -1.984537  0.139031 -0.079212 -0.017591  0.025476 -1.017565\n",
       "4 -1.906969  0.146985 -0.039190 -0.023628  0.021831 -0.957660"
      ]
     },
     "execution_count": 20,
     "metadata": {},
     "output_type": "execute_result"
    }
   ],
   "source": [
    "df_pca.head()"
   ]
  },
  {
   "cell_type": "code",
   "execution_count": 21,
   "metadata": {},
   "outputs": [
    {
     "data": {
      "text/html": [
       "<table class=\"simpletable\">\n",
       "<caption>OLS Regression Results</caption>\n",
       "<tr>\n",
       "  <th>Dep. Variable:</th>            <td>y</td>        <th>  R-squared:         </th> <td>   0.986</td>\n",
       "</tr>\n",
       "<tr>\n",
       "  <th>Model:</th>                   <td>OLS</td>       <th>  Adj. R-squared:    </th> <td>   0.985</td>\n",
       "</tr>\n",
       "<tr>\n",
       "  <th>Method:</th>             <td>Least Squares</td>  <th>  F-statistic:       </th> <td>   1267.</td>\n",
       "</tr>\n",
       "<tr>\n",
       "  <th>Date:</th>             <td>Wed, 07 Apr 2021</td> <th>  Prob (F-statistic):</th> <td>3.87e-18</td>\n",
       "</tr>\n",
       "<tr>\n",
       "  <th>Time:</th>                 <td>22:29:39</td>     <th>  Log-Likelihood:    </th> <td>  14.303</td>\n",
       "</tr>\n",
       "<tr>\n",
       "  <th>No. Observations:</th>      <td>    20</td>      <th>  AIC:               </th> <td>  -24.61</td>\n",
       "</tr>\n",
       "<tr>\n",
       "  <th>Df Residuals:</th>          <td>    18</td>      <th>  BIC:               </th> <td>  -22.62</td>\n",
       "</tr>\n",
       "<tr>\n",
       "  <th>Df Model:</th>              <td>     1</td>      <th>                     </th>     <td> </td>   \n",
       "</tr>\n",
       "<tr>\n",
       "  <th>Covariance Type:</th>      <td>nonrobust</td>    <th>                     </th>     <td> </td>   \n",
       "</tr>\n",
       "</table>\n",
       "<table class=\"simpletable\">\n",
       "<tr>\n",
       "      <td></td>         <th>coef</th>     <th>std err</th>      <th>t</th>      <th>P>|t|</th>  <th>[0.025</th>    <th>0.975]</th>  \n",
       "</tr>\n",
       "<tr>\n",
       "  <th>Intercept</th> <td> -1.11e-16</td> <td>    0.028</td> <td>-3.98e-15</td> <td> 1.000</td> <td>   -0.059</td> <td>    0.059</td>\n",
       "</tr>\n",
       "<tr>\n",
       "  <th>z_1</th>       <td>    0.4461</td> <td>    0.013</td> <td>   35.596</td> <td> 0.000</td> <td>    0.420</td> <td>    0.472</td>\n",
       "</tr>\n",
       "</table>\n",
       "<table class=\"simpletable\">\n",
       "<tr>\n",
       "  <th>Omnibus:</th>       <td> 3.776</td> <th>  Durbin-Watson:     </th> <td>   0.380</td>\n",
       "</tr>\n",
       "<tr>\n",
       "  <th>Prob(Omnibus):</th> <td> 0.151</td> <th>  Jarque-Bera (JB):  </th> <td>   1.863</td>\n",
       "</tr>\n",
       "<tr>\n",
       "  <th>Skew:</th>          <td> 0.449</td> <th>  Prob(JB):          </th> <td>   0.394</td>\n",
       "</tr>\n",
       "<tr>\n",
       "  <th>Kurtosis:</th>      <td> 1.805</td> <th>  Cond. No.          </th> <td>    2.23</td>\n",
       "</tr>\n",
       "</table><br/><br/>Notes:<br/>[1] Standard Errors assume that the covariance matrix of the errors is correctly specified."
      ],
      "text/plain": [
       "<class 'statsmodels.iolib.summary.Summary'>\n",
       "\"\"\"\n",
       "                            OLS Regression Results                            \n",
       "==============================================================================\n",
       "Dep. Variable:                      y   R-squared:                       0.986\n",
       "Model:                            OLS   Adj. R-squared:                  0.985\n",
       "Method:                 Least Squares   F-statistic:                     1267.\n",
       "Date:                Wed, 07 Apr 2021   Prob (F-statistic):           3.87e-18\n",
       "Time:                        22:29:39   Log-Likelihood:                 14.303\n",
       "No. Observations:                  20   AIC:                            -24.61\n",
       "Df Residuals:                      18   BIC:                            -22.62\n",
       "Df Model:                           1                                         \n",
       "Covariance Type:            nonrobust                                         \n",
       "==============================================================================\n",
       "                 coef    std err          t      P>|t|      [0.025      0.975]\n",
       "------------------------------------------------------------------------------\n",
       "Intercept   -1.11e-16      0.028  -3.98e-15      1.000      -0.059       0.059\n",
       "z_1            0.4461      0.013     35.596      0.000       0.420       0.472\n",
       "==============================================================================\n",
       "Omnibus:                        3.776   Durbin-Watson:                   0.380\n",
       "Prob(Omnibus):                  0.151   Jarque-Bera (JB):                1.863\n",
       "Skew:                           0.449   Prob(JB):                        0.394\n",
       "Kurtosis:                       1.805   Cond. No.                         2.23\n",
       "==============================================================================\n",
       "\n",
       "Notes:\n",
       "[1] Standard Errors assume that the covariance matrix of the errors is correctly specified.\n",
       "\"\"\""
      ]
     },
     "execution_count": 21,
     "metadata": {},
     "output_type": "execute_result"
    }
   ],
   "source": [
    "import statsmodels.formula.api as smf\n",
    "model = smf.ols(formula='y ~ z_1', data=df_pca).fit()\n",
    "model.summary()"
   ]
  },
  {
   "cell_type": "code",
   "execution_count": 22,
   "metadata": {},
   "outputs": [
    {
     "data": {
      "text/html": [
       "<table class=\"simpletable\">\n",
       "<caption>OLS Regression Results</caption>\n",
       "<tr>\n",
       "  <th>Dep. Variable:</th>            <td>y</td>        <th>  R-squared:         </th> <td>   0.995</td>\n",
       "</tr>\n",
       "<tr>\n",
       "  <th>Model:</th>                   <td>OLS</td>       <th>  Adj. R-squared:    </th> <td>   0.995</td>\n",
       "</tr>\n",
       "<tr>\n",
       "  <th>Method:</th>             <td>Least Squares</td>  <th>  F-statistic:       </th> <td>   1826.</td>\n",
       "</tr>\n",
       "<tr>\n",
       "  <th>Date:</th>             <td>Wed, 07 Apr 2021</td> <th>  Prob (F-statistic):</th> <td>1.45e-20</td>\n",
       "</tr>\n",
       "<tr>\n",
       "  <th>Time:</th>                 <td>22:29:39</td>     <th>  Log-Likelihood:    </th> <td>  25.366</td>\n",
       "</tr>\n",
       "<tr>\n",
       "  <th>No. Observations:</th>      <td>    20</td>      <th>  AIC:               </th> <td>  -44.73</td>\n",
       "</tr>\n",
       "<tr>\n",
       "  <th>Df Residuals:</th>          <td>    17</td>      <th>  BIC:               </th> <td>  -41.74</td>\n",
       "</tr>\n",
       "<tr>\n",
       "  <th>Df Model:</th>              <td>     2</td>      <th>                     </th>     <td> </td>   \n",
       "</tr>\n",
       "<tr>\n",
       "  <th>Covariance Type:</th>      <td>nonrobust</td>    <th>                     </th>     <td> </td>   \n",
       "</tr>\n",
       "</table>\n",
       "<table class=\"simpletable\">\n",
       "<tr>\n",
       "      <td></td>         <th>coef</th>     <th>std err</th>      <th>t</th>      <th>P>|t|</th>  <th>[0.025</th>    <th>0.975]</th>  \n",
       "</tr>\n",
       "<tr>\n",
       "  <th>Intercept</th> <td> -1.11e-16</td> <td>    0.017</td> <td>-6.72e-15</td> <td> 1.000</td> <td>   -0.035</td> <td>    0.035</td>\n",
       "</tr>\n",
       "<tr>\n",
       "  <th>z_1</th>       <td>    0.4461</td> <td>    0.007</td> <td>   60.147</td> <td> 0.000</td> <td>    0.430</td> <td>    0.462</td>\n",
       "</tr>\n",
       "<tr>\n",
       "  <th>z_2</th>       <td>   -0.5025</td> <td>    0.086</td> <td>   -5.865</td> <td> 0.000</td> <td>   -0.683</td> <td>   -0.322</td>\n",
       "</tr>\n",
       "</table>\n",
       "<table class=\"simpletable\">\n",
       "<tr>\n",
       "  <th>Omnibus:</th>       <td> 4.252</td> <th>  Durbin-Watson:     </th> <td>   1.122</td>\n",
       "</tr>\n",
       "<tr>\n",
       "  <th>Prob(Omnibus):</th> <td> 0.119</td> <th>  Jarque-Bera (JB):  </th> <td>   1.705</td>\n",
       "</tr>\n",
       "<tr>\n",
       "  <th>Skew:</th>          <td> 0.325</td> <th>  Prob(JB):          </th> <td>   0.426</td>\n",
       "</tr>\n",
       "<tr>\n",
       "  <th>Kurtosis:</th>      <td> 1.726</td> <th>  Cond. No.          </th> <td>    11.6</td>\n",
       "</tr>\n",
       "</table><br/><br/>Notes:<br/>[1] Standard Errors assume that the covariance matrix of the errors is correctly specified."
      ],
      "text/plain": [
       "<class 'statsmodels.iolib.summary.Summary'>\n",
       "\"\"\"\n",
       "                            OLS Regression Results                            \n",
       "==============================================================================\n",
       "Dep. Variable:                      y   R-squared:                       0.995\n",
       "Model:                            OLS   Adj. R-squared:                  0.995\n",
       "Method:                 Least Squares   F-statistic:                     1826.\n",
       "Date:                Wed, 07 Apr 2021   Prob (F-statistic):           1.45e-20\n",
       "Time:                        22:29:39   Log-Likelihood:                 25.366\n",
       "No. Observations:                  20   AIC:                            -44.73\n",
       "Df Residuals:                      17   BIC:                            -41.74\n",
       "Df Model:                           2                                         \n",
       "Covariance Type:            nonrobust                                         \n",
       "==============================================================================\n",
       "                 coef    std err          t      P>|t|      [0.025      0.975]\n",
       "------------------------------------------------------------------------------\n",
       "Intercept   -1.11e-16      0.017  -6.72e-15      1.000      -0.035       0.035\n",
       "z_1            0.4461      0.007     60.147      0.000       0.430       0.462\n",
       "z_2           -0.5025      0.086     -5.865      0.000      -0.683      -0.322\n",
       "==============================================================================\n",
       "Omnibus:                        4.252   Durbin-Watson:                   1.122\n",
       "Prob(Omnibus):                  0.119   Jarque-Bera (JB):                1.705\n",
       "Skew:                           0.325   Prob(JB):                        0.426\n",
       "Kurtosis:                       1.726   Cond. No.                         11.6\n",
       "==============================================================================\n",
       "\n",
       "Notes:\n",
       "[1] Standard Errors assume that the covariance matrix of the errors is correctly specified.\n",
       "\"\"\""
      ]
     },
     "execution_count": 22,
     "metadata": {},
     "output_type": "execute_result"
    }
   ],
   "source": [
    "import statsmodels.formula.api as smf\n",
    "model = smf.ols(formula='y ~ z_1 + z_2', data=df_pca).fit()\n",
    "model.summary()"
   ]
  },
  {
   "cell_type": "code",
   "execution_count": 23,
   "metadata": {},
   "outputs": [
    {
     "data": {
      "text/html": [
       "<table class=\"simpletable\">\n",
       "<caption>OLS Regression Results</caption>\n",
       "<tr>\n",
       "  <th>Dep. Variable:</th>            <td>y</td>        <th>  R-squared:         </th> <td>   0.996</td>\n",
       "</tr>\n",
       "<tr>\n",
       "  <th>Model:</th>                   <td>OLS</td>       <th>  Adj. R-squared:    </th> <td>   0.995</td>\n",
       "</tr>\n",
       "<tr>\n",
       "  <th>Method:</th>             <td>Least Squares</td>  <th>  F-statistic:       </th> <td>   1278.</td>\n",
       "</tr>\n",
       "<tr>\n",
       "  <th>Date:</th>             <td>Wed, 07 Apr 2021</td> <th>  Prob (F-statistic):</th> <td>2.97e-19</td>\n",
       "</tr>\n",
       "<tr>\n",
       "  <th>Time:</th>                 <td>22:29:39</td>     <th>  Log-Likelihood:    </th> <td>  26.450</td>\n",
       "</tr>\n",
       "<tr>\n",
       "  <th>No. Observations:</th>      <td>    20</td>      <th>  AIC:               </th> <td>  -44.90</td>\n",
       "</tr>\n",
       "<tr>\n",
       "  <th>Df Residuals:</th>          <td>    16</td>      <th>  BIC:               </th> <td>  -40.92</td>\n",
       "</tr>\n",
       "<tr>\n",
       "  <th>Df Model:</th>              <td>     3</td>      <th>                     </th>     <td> </td>   \n",
       "</tr>\n",
       "<tr>\n",
       "  <th>Covariance Type:</th>      <td>nonrobust</td>    <th>                     </th>     <td> </td>   \n",
       "</tr>\n",
       "</table>\n",
       "<table class=\"simpletable\">\n",
       "<tr>\n",
       "      <td></td>         <th>coef</th>     <th>std err</th>      <th>t</th>      <th>P>|t|</th>  <th>[0.025</th>    <th>0.975]</th>  \n",
       "</tr>\n",
       "<tr>\n",
       "  <th>Intercept</th> <td>-8.327e-17</td> <td>    0.016</td> <td>-5.17e-15</td> <td> 1.000</td> <td>   -0.034</td> <td>    0.034</td>\n",
       "</tr>\n",
       "<tr>\n",
       "  <th>z_1</th>       <td>    0.4461</td> <td>    0.007</td> <td>   61.601</td> <td> 0.000</td> <td>    0.431</td> <td>    0.462</td>\n",
       "</tr>\n",
       "<tr>\n",
       "  <th>z_2</th>       <td>   -0.5025</td> <td>    0.084</td> <td>   -6.006</td> <td> 0.000</td> <td>   -0.680</td> <td>   -0.325</td>\n",
       "</tr>\n",
       "<tr>\n",
       "  <th>z_3</th>       <td>   -0.2906</td> <td>    0.215</td> <td>   -1.353</td> <td> 0.195</td> <td>   -0.746</td> <td>    0.165</td>\n",
       "</tr>\n",
       "</table>\n",
       "<table class=\"simpletable\">\n",
       "<tr>\n",
       "  <th>Omnibus:</th>       <td> 4.280</td> <th>  Durbin-Watson:     </th> <td>   1.299</td>\n",
       "</tr>\n",
       "<tr>\n",
       "  <th>Prob(Omnibus):</th> <td> 0.118</td> <th>  Jarque-Bera (JB):  </th> <td>   1.540</td>\n",
       "</tr>\n",
       "<tr>\n",
       "  <th>Skew:</th>          <td> 0.201</td> <th>  Prob(JB):          </th> <td>   0.463</td>\n",
       "</tr>\n",
       "<tr>\n",
       "  <th>Kurtosis:</th>      <td> 1.701</td> <th>  Cond. No.          </th> <td>    29.7</td>\n",
       "</tr>\n",
       "</table><br/><br/>Notes:<br/>[1] Standard Errors assume that the covariance matrix of the errors is correctly specified."
      ],
      "text/plain": [
       "<class 'statsmodels.iolib.summary.Summary'>\n",
       "\"\"\"\n",
       "                            OLS Regression Results                            \n",
       "==============================================================================\n",
       "Dep. Variable:                      y   R-squared:                       0.996\n",
       "Model:                            OLS   Adj. R-squared:                  0.995\n",
       "Method:                 Least Squares   F-statistic:                     1278.\n",
       "Date:                Wed, 07 Apr 2021   Prob (F-statistic):           2.97e-19\n",
       "Time:                        22:29:39   Log-Likelihood:                 26.450\n",
       "No. Observations:                  20   AIC:                            -44.90\n",
       "Df Residuals:                      16   BIC:                            -40.92\n",
       "Df Model:                           3                                         \n",
       "Covariance Type:            nonrobust                                         \n",
       "==============================================================================\n",
       "                 coef    std err          t      P>|t|      [0.025      0.975]\n",
       "------------------------------------------------------------------------------\n",
       "Intercept  -8.327e-17      0.016  -5.17e-15      1.000      -0.034       0.034\n",
       "z_1            0.4461      0.007     61.601      0.000       0.431       0.462\n",
       "z_2           -0.5025      0.084     -6.006      0.000      -0.680      -0.325\n",
       "z_3           -0.2906      0.215     -1.353      0.195      -0.746       0.165\n",
       "==============================================================================\n",
       "Omnibus:                        4.280   Durbin-Watson:                   1.299\n",
       "Prob(Omnibus):                  0.118   Jarque-Bera (JB):                1.540\n",
       "Skew:                           0.201   Prob(JB):                        0.463\n",
       "Kurtosis:                       1.701   Cond. No.                         29.7\n",
       "==============================================================================\n",
       "\n",
       "Notes:\n",
       "[1] Standard Errors assume that the covariance matrix of the errors is correctly specified.\n",
       "\"\"\""
      ]
     },
     "execution_count": 23,
     "metadata": {},
     "output_type": "execute_result"
    }
   ],
   "source": [
    "import statsmodels.formula.api as smf\n",
    "model = smf.ols(formula='y ~ z_1 + z_2 + z_3', data=df_pca).fit()\n",
    "model.summary()"
   ]
  },
  {
   "cell_type": "markdown",
   "metadata": {},
   "source": [
    "# Partial Least Squares"
   ]
  },
  {
   "cell_type": "code",
   "execution_count": 24,
   "metadata": {
    "collapsed": true
   },
   "outputs": [],
   "source": [
    "from sklearn.cross_decomposition import PLSRegression"
   ]
  },
  {
   "cell_type": "code",
   "execution_count": 25,
   "metadata": {
    "scrolled": true
   },
   "outputs": [],
   "source": [
    "# First standarize the data\n",
    "from sklearn.preprocessing import StandardScaler\n",
    "scaler_x, scaler_y = StandardScaler(), StandardScaler()\n",
    "scaler_x.fit(df_x)\n",
    "scaler_y.fit(np.array(target).reshape(-1,1))\n",
    "X = scaler_x.transform(df_x)\n",
    "y = scaler_y.transform(np.array(target).reshape(-1,1))"
   ]
  },
  {
   "cell_type": "code",
   "execution_count": 26,
   "metadata": {},
   "outputs": [
    {
     "data": {
      "text/plain": [
       "PLSRegression(copy=True, max_iter=500, n_components=5, scale=True, tol=1e-06)"
      ]
     },
     "execution_count": 26,
     "metadata": {},
     "output_type": "execute_result"
    }
   ],
   "source": [
    "# Fit PLS\n",
    "pls = PLSRegression(n_components=5)\n",
    "pls.fit(X, y)"
   ]
  },
  {
   "cell_type": "code",
   "execution_count": 27,
   "metadata": {
    "collapsed": true,
    "scrolled": true
   },
   "outputs": [],
   "source": [
    "# Transform to PLS variables\n",
    "pls_X = pls.transform(X)"
   ]
  },
  {
   "cell_type": "code",
   "execution_count": 28,
   "metadata": {},
   "outputs": [],
   "source": [
    "# create a data frame\n",
    "df_pls = pd.DataFrame(pls_X,columns=['z_1','z_2','z_3','z_4','z_5'])\n",
    "df_pls['y'] = y"
   ]
  },
  {
   "cell_type": "code",
   "execution_count": 29,
   "metadata": {},
   "outputs": [
    {
     "data": {
      "text/html": [
       "<div>\n",
       "<style scoped>\n",
       "    .dataframe tbody tr th:only-of-type {\n",
       "        vertical-align: middle;\n",
       "    }\n",
       "\n",
       "    .dataframe tbody tr th {\n",
       "        vertical-align: top;\n",
       "    }\n",
       "\n",
       "    .dataframe thead th {\n",
       "        text-align: right;\n",
       "    }\n",
       "</style>\n",
       "<table border=\"1\" class=\"dataframe\">\n",
       "  <thead>\n",
       "    <tr style=\"text-align: right;\">\n",
       "      <th></th>\n",
       "      <th>z_1</th>\n",
       "      <th>z_2</th>\n",
       "      <th>z_3</th>\n",
       "      <th>z_4</th>\n",
       "      <th>z_5</th>\n",
       "      <th>y</th>\n",
       "    </tr>\n",
       "  </thead>\n",
       "  <tbody>\n",
       "    <tr>\n",
       "      <th>0</th>\n",
       "      <td>-2.183385</td>\n",
       "      <td>0.122991</td>\n",
       "      <td>-0.025683</td>\n",
       "      <td>0.029531</td>\n",
       "      <td>0.017016</td>\n",
       "      <td>-1.099130</td>\n",
       "    </tr>\n",
       "    <tr>\n",
       "      <th>1</th>\n",
       "      <td>-2.085842</td>\n",
       "      <td>0.181683</td>\n",
       "      <td>-0.034748</td>\n",
       "      <td>-0.007235</td>\n",
       "      <td>0.006888</td>\n",
       "      <td>-1.089794</td>\n",
       "    </tr>\n",
       "    <tr>\n",
       "      <th>2</th>\n",
       "      <td>-2.012427</td>\n",
       "      <td>0.165066</td>\n",
       "      <td>0.022492</td>\n",
       "      <td>0.006254</td>\n",
       "      <td>-0.007424</td>\n",
       "      <td>-1.064473</td>\n",
       "    </tr>\n",
       "    <tr>\n",
       "      <th>3</th>\n",
       "      <td>-1.935307</td>\n",
       "      <td>0.128397</td>\n",
       "      <td>0.072408</td>\n",
       "      <td>0.025037</td>\n",
       "      <td>-0.025775</td>\n",
       "      <td>-1.017565</td>\n",
       "    </tr>\n",
       "    <tr>\n",
       "      <th>4</th>\n",
       "      <td>-1.859799</td>\n",
       "      <td>0.139450</td>\n",
       "      <td>0.035907</td>\n",
       "      <td>0.017454</td>\n",
       "      <td>-0.029984</td>\n",
       "      <td>-0.957660</td>\n",
       "    </tr>\n",
       "  </tbody>\n",
       "</table>\n",
       "</div>"
      ],
      "text/plain": [
       "        z_1       z_2       z_3       z_4       z_5         y\n",
       "0 -2.183385  0.122991 -0.025683  0.029531  0.017016 -1.099130\n",
       "1 -2.085842  0.181683 -0.034748 -0.007235  0.006888 -1.089794\n",
       "2 -2.012427  0.165066  0.022492  0.006254 -0.007424 -1.064473\n",
       "3 -1.935307  0.128397  0.072408  0.025037 -0.025775 -1.017565\n",
       "4 -1.859799  0.139450  0.035907  0.017454 -0.029984 -0.957660"
      ]
     },
     "execution_count": 29,
     "metadata": {},
     "output_type": "execute_result"
    }
   ],
   "source": [
    "df_pls.head()"
   ]
  },
  {
   "cell_type": "code",
   "execution_count": 30,
   "metadata": {},
   "outputs": [
    {
     "data": {
      "text/html": [
       "<table class=\"simpletable\">\n",
       "<caption>OLS Regression Results</caption>\n",
       "<tr>\n",
       "  <th>Dep. Variable:</th>            <td>y</td>        <th>  R-squared:         </th> <td>   0.986</td>\n",
       "</tr>\n",
       "<tr>\n",
       "  <th>Model:</th>                   <td>OLS</td>       <th>  Adj. R-squared:    </th> <td>   0.985</td>\n",
       "</tr>\n",
       "<tr>\n",
       "  <th>Method:</th>             <td>Least Squares</td>  <th>  F-statistic:       </th> <td>   1280.</td>\n",
       "</tr>\n",
       "<tr>\n",
       "  <th>Date:</th>             <td>Wed, 07 Apr 2021</td> <th>  Prob (F-statistic):</th> <td>3.54e-18</td>\n",
       "</tr>\n",
       "<tr>\n",
       "  <th>Time:</th>                 <td>22:29:39</td>     <th>  Log-Likelihood:    </th> <td>  14.405</td>\n",
       "</tr>\n",
       "<tr>\n",
       "  <th>No. Observations:</th>      <td>    20</td>      <th>  AIC:               </th> <td>  -24.81</td>\n",
       "</tr>\n",
       "<tr>\n",
       "  <th>Df Residuals:</th>          <td>    18</td>      <th>  BIC:               </th> <td>  -22.82</td>\n",
       "</tr>\n",
       "<tr>\n",
       "  <th>Df Model:</th>              <td>     1</td>      <th>                     </th>     <td> </td>   \n",
       "</tr>\n",
       "<tr>\n",
       "  <th>Covariance Type:</th>      <td>nonrobust</td>    <th>                     </th>     <td> </td>   \n",
       "</tr>\n",
       "</table>\n",
       "<table class=\"simpletable\">\n",
       "<tr>\n",
       "      <td></td>         <th>coef</th>     <th>std err</th>      <th>t</th>      <th>P>|t|</th>  <th>[0.025</th>    <th>0.975]</th>  \n",
       "</tr>\n",
       "<tr>\n",
       "  <th>Intercept</th> <td> -1.11e-16</td> <td>    0.028</td> <td>   -4e-15</td> <td> 1.000</td> <td>   -0.058</td> <td>    0.058</td>\n",
       "</tr>\n",
       "<tr>\n",
       "  <th>z_1</th>       <td>    0.4578</td> <td>    0.013</td> <td>   35.779</td> <td> 0.000</td> <td>    0.431</td> <td>    0.485</td>\n",
       "</tr>\n",
       "</table>\n",
       "<table class=\"simpletable\">\n",
       "<tr>\n",
       "  <th>Omnibus:</th>       <td> 3.749</td> <th>  Durbin-Watson:     </th> <td>   0.380</td>\n",
       "</tr>\n",
       "<tr>\n",
       "  <th>Prob(Omnibus):</th> <td> 0.153</td> <th>  Jarque-Bera (JB):  </th> <td>   1.864</td>\n",
       "</tr>\n",
       "<tr>\n",
       "  <th>Skew:</th>          <td> 0.452</td> <th>  Prob(JB):          </th> <td>   0.394</td>\n",
       "</tr>\n",
       "<tr>\n",
       "  <th>Kurtosis:</th>      <td> 1.808</td> <th>  Cond. No.          </th> <td>    2.17</td>\n",
       "</tr>\n",
       "</table><br/><br/>Notes:<br/>[1] Standard Errors assume that the covariance matrix of the errors is correctly specified."
      ],
      "text/plain": [
       "<class 'statsmodels.iolib.summary.Summary'>\n",
       "\"\"\"\n",
       "                            OLS Regression Results                            \n",
       "==============================================================================\n",
       "Dep. Variable:                      y   R-squared:                       0.986\n",
       "Model:                            OLS   Adj. R-squared:                  0.985\n",
       "Method:                 Least Squares   F-statistic:                     1280.\n",
       "Date:                Wed, 07 Apr 2021   Prob (F-statistic):           3.54e-18\n",
       "Time:                        22:29:39   Log-Likelihood:                 14.405\n",
       "No. Observations:                  20   AIC:                            -24.81\n",
       "Df Residuals:                      18   BIC:                            -22.82\n",
       "Df Model:                           1                                         \n",
       "Covariance Type:            nonrobust                                         \n",
       "==============================================================================\n",
       "                 coef    std err          t      P>|t|      [0.025      0.975]\n",
       "------------------------------------------------------------------------------\n",
       "Intercept   -1.11e-16      0.028     -4e-15      1.000      -0.058       0.058\n",
       "z_1            0.4578      0.013     35.779      0.000       0.431       0.485\n",
       "==============================================================================\n",
       "Omnibus:                        3.749   Durbin-Watson:                   0.380\n",
       "Prob(Omnibus):                  0.153   Jarque-Bera (JB):                1.864\n",
       "Skew:                           0.452   Prob(JB):                        0.394\n",
       "Kurtosis:                       1.808   Cond. No.                         2.17\n",
       "==============================================================================\n",
       "\n",
       "Notes:\n",
       "[1] Standard Errors assume that the covariance matrix of the errors is correctly specified.\n",
       "\"\"\""
      ]
     },
     "execution_count": 30,
     "metadata": {},
     "output_type": "execute_result"
    }
   ],
   "source": [
    "import statsmodels.formula.api as smf\n",
    "model = smf.ols(formula='y ~ z_1', data=df_pls).fit()\n",
    "model.summary()"
   ]
  },
  {
   "cell_type": "code",
   "execution_count": 31,
   "metadata": {},
   "outputs": [
    {
     "data": {
      "text/html": [
       "<table class=\"simpletable\">\n",
       "<caption>OLS Regression Results</caption>\n",
       "<tr>\n",
       "  <th>Dep. Variable:</th>            <td>y</td>        <th>  R-squared:         </th> <td>   0.996</td>\n",
       "</tr>\n",
       "<tr>\n",
       "  <th>Model:</th>                   <td>OLS</td>       <th>  Adj. R-squared:    </th> <td>   0.995</td>\n",
       "</tr>\n",
       "<tr>\n",
       "  <th>Method:</th>             <td>Least Squares</td>  <th>  F-statistic:       </th> <td>   1884.</td>\n",
       "</tr>\n",
       "<tr>\n",
       "  <th>Date:</th>             <td>Wed, 07 Apr 2021</td> <th>  Prob (F-statistic):</th> <td>1.11e-20</td>\n",
       "</tr>\n",
       "<tr>\n",
       "  <th>Time:</th>                 <td>22:29:39</td>     <th>  Log-Likelihood:    </th> <td>  25.677</td>\n",
       "</tr>\n",
       "<tr>\n",
       "  <th>No. Observations:</th>      <td>    20</td>      <th>  AIC:               </th> <td>  -45.35</td>\n",
       "</tr>\n",
       "<tr>\n",
       "  <th>Df Residuals:</th>          <td>    17</td>      <th>  BIC:               </th> <td>  -42.37</td>\n",
       "</tr>\n",
       "<tr>\n",
       "  <th>Df Model:</th>              <td>     2</td>      <th>                     </th>     <td> </td>   \n",
       "</tr>\n",
       "<tr>\n",
       "  <th>Covariance Type:</th>      <td>nonrobust</td>    <th>                     </th>     <td> </td>   \n",
       "</tr>\n",
       "</table>\n",
       "<table class=\"simpletable\">\n",
       "<tr>\n",
       "      <td></td>         <th>coef</th>     <th>std err</th>      <th>t</th>      <th>P>|t|</th>  <th>[0.025</th>    <th>0.975]</th>  \n",
       "</tr>\n",
       "<tr>\n",
       "  <th>Intercept</th> <td> -1.11e-16</td> <td>    0.016</td> <td>-6.83e-15</td> <td> 1.000</td> <td>   -0.034</td> <td>    0.034</td>\n",
       "</tr>\n",
       "<tr>\n",
       "  <th>z_1</th>       <td>    0.4578</td> <td>    0.007</td> <td>   61.095</td> <td> 0.000</td> <td>    0.442</td> <td>    0.474</td>\n",
       "</tr>\n",
       "<tr>\n",
       "  <th>z_2</th>       <td>   -0.5174</td> <td>    0.087</td> <td>   -5.957</td> <td> 0.000</td> <td>   -0.701</td> <td>   -0.334</td>\n",
       "</tr>\n",
       "</table>\n",
       "<table class=\"simpletable\">\n",
       "<tr>\n",
       "  <th>Omnibus:</th>       <td> 4.156</td> <th>  Durbin-Watson:     </th> <td>   1.157</td>\n",
       "</tr>\n",
       "<tr>\n",
       "  <th>Prob(Omnibus):</th> <td> 0.125</td> <th>  Jarque-Bera (JB):  </th> <td>   1.672</td>\n",
       "</tr>\n",
       "<tr>\n",
       "  <th>Skew:</th>          <td> 0.315</td> <th>  Prob(JB):          </th> <td>   0.433</td>\n",
       "</tr>\n",
       "<tr>\n",
       "  <th>Kurtosis:</th>      <td> 1.731</td> <th>  Cond. No.          </th> <td>    11.6</td>\n",
       "</tr>\n",
       "</table><br/><br/>Notes:<br/>[1] Standard Errors assume that the covariance matrix of the errors is correctly specified."
      ],
      "text/plain": [
       "<class 'statsmodels.iolib.summary.Summary'>\n",
       "\"\"\"\n",
       "                            OLS Regression Results                            \n",
       "==============================================================================\n",
       "Dep. Variable:                      y   R-squared:                       0.996\n",
       "Model:                            OLS   Adj. R-squared:                  0.995\n",
       "Method:                 Least Squares   F-statistic:                     1884.\n",
       "Date:                Wed, 07 Apr 2021   Prob (F-statistic):           1.11e-20\n",
       "Time:                        22:29:39   Log-Likelihood:                 25.677\n",
       "No. Observations:                  20   AIC:                            -45.35\n",
       "Df Residuals:                      17   BIC:                            -42.37\n",
       "Df Model:                           2                                         \n",
       "Covariance Type:            nonrobust                                         \n",
       "==============================================================================\n",
       "                 coef    std err          t      P>|t|      [0.025      0.975]\n",
       "------------------------------------------------------------------------------\n",
       "Intercept   -1.11e-16      0.016  -6.83e-15      1.000      -0.034       0.034\n",
       "z_1            0.4578      0.007     61.095      0.000       0.442       0.474\n",
       "z_2           -0.5174      0.087     -5.957      0.000      -0.701      -0.334\n",
       "==============================================================================\n",
       "Omnibus:                        4.156   Durbin-Watson:                   1.157\n",
       "Prob(Omnibus):                  0.125   Jarque-Bera (JB):                1.672\n",
       "Skew:                           0.315   Prob(JB):                        0.433\n",
       "Kurtosis:                       1.731   Cond. No.                         11.6\n",
       "==============================================================================\n",
       "\n",
       "Notes:\n",
       "[1] Standard Errors assume that the covariance matrix of the errors is correctly specified.\n",
       "\"\"\""
      ]
     },
     "execution_count": 31,
     "metadata": {},
     "output_type": "execute_result"
    }
   ],
   "source": [
    "import statsmodels.formula.api as smf\n",
    "model = smf.ols(formula='y ~ z_1 + z_2', data=df_pls).fit()\n",
    "model.summary()"
   ]
  },
  {
   "cell_type": "code",
   "execution_count": 32,
   "metadata": {},
   "outputs": [
    {
     "data": {
      "text/html": [
       "<table class=\"simpletable\">\n",
       "<caption>OLS Regression Results</caption>\n",
       "<tr>\n",
       "  <th>Dep. Variable:</th>            <td>y</td>        <th>  R-squared:         </th> <td>   0.996</td>\n",
       "</tr>\n",
       "<tr>\n",
       "  <th>Model:</th>                   <td>OLS</td>       <th>  Adj. R-squared:    </th> <td>   0.995</td>\n",
       "</tr>\n",
       "<tr>\n",
       "  <th>Method:</th>             <td>Least Squares</td>  <th>  F-statistic:       </th> <td>   1292.</td>\n",
       "</tr>\n",
       "<tr>\n",
       "  <th>Date:</th>             <td>Wed, 07 Apr 2021</td> <th>  Prob (F-statistic):</th> <td>2.72e-19</td>\n",
       "</tr>\n",
       "<tr>\n",
       "  <th>Time:</th>                 <td>22:29:39</td>     <th>  Log-Likelihood:    </th> <td>  26.562</td>\n",
       "</tr>\n",
       "<tr>\n",
       "  <th>No. Observations:</th>      <td>    20</td>      <th>  AIC:               </th> <td>  -45.12</td>\n",
       "</tr>\n",
       "<tr>\n",
       "  <th>Df Residuals:</th>          <td>    16</td>      <th>  BIC:               </th> <td>  -41.14</td>\n",
       "</tr>\n",
       "<tr>\n",
       "  <th>Df Model:</th>              <td>     3</td>      <th>                     </th>     <td> </td>   \n",
       "</tr>\n",
       "<tr>\n",
       "  <th>Covariance Type:</th>      <td>nonrobust</td>    <th>                     </th>     <td> </td>   \n",
       "</tr>\n",
       "</table>\n",
       "<table class=\"simpletable\">\n",
       "<tr>\n",
       "      <td></td>         <th>coef</th>     <th>std err</th>      <th>t</th>      <th>P>|t|</th>  <th>[0.025</th>    <th>0.975]</th>  \n",
       "</tr>\n",
       "<tr>\n",
       "  <th>Intercept</th> <td>-8.327e-17</td> <td>    0.016</td> <td>-5.19e-15</td> <td> 1.000</td> <td>   -0.034</td> <td>    0.034</td>\n",
       "</tr>\n",
       "<tr>\n",
       "  <th>z_1</th>       <td>    0.4578</td> <td>    0.007</td> <td>   61.953</td> <td> 0.000</td> <td>    0.442</td> <td>    0.473</td>\n",
       "</tr>\n",
       "<tr>\n",
       "  <th>z_2</th>       <td>   -0.5174</td> <td>    0.086</td> <td>   -6.040</td> <td> 0.000</td> <td>   -0.699</td> <td>   -0.336</td>\n",
       "</tr>\n",
       "<tr>\n",
       "  <th>z_3</th>       <td>    0.2719</td> <td>    0.223</td> <td>    1.217</td> <td> 0.241</td> <td>   -0.202</td> <td>    0.746</td>\n",
       "</tr>\n",
       "</table>\n",
       "<table class=\"simpletable\">\n",
       "<tr>\n",
       "  <th>Omnibus:</th>       <td> 3.867</td> <th>  Durbin-Watson:     </th> <td>   1.314</td>\n",
       "</tr>\n",
       "<tr>\n",
       "  <th>Prob(Omnibus):</th> <td> 0.145</td> <th>  Jarque-Bera (JB):  </th> <td>   1.482</td>\n",
       "</tr>\n",
       "<tr>\n",
       "  <th>Skew:</th>          <td> 0.206</td> <th>  Prob(JB):          </th> <td>   0.477</td>\n",
       "</tr>\n",
       "<tr>\n",
       "  <th>Kurtosis:</th>      <td> 1.732</td> <th>  Cond. No.          </th> <td>    30.2</td>\n",
       "</tr>\n",
       "</table><br/><br/>Notes:<br/>[1] Standard Errors assume that the covariance matrix of the errors is correctly specified."
      ],
      "text/plain": [
       "<class 'statsmodels.iolib.summary.Summary'>\n",
       "\"\"\"\n",
       "                            OLS Regression Results                            \n",
       "==============================================================================\n",
       "Dep. Variable:                      y   R-squared:                       0.996\n",
       "Model:                            OLS   Adj. R-squared:                  0.995\n",
       "Method:                 Least Squares   F-statistic:                     1292.\n",
       "Date:                Wed, 07 Apr 2021   Prob (F-statistic):           2.72e-19\n",
       "Time:                        22:29:39   Log-Likelihood:                 26.562\n",
       "No. Observations:                  20   AIC:                            -45.12\n",
       "Df Residuals:                      16   BIC:                            -41.14\n",
       "Df Model:                           3                                         \n",
       "Covariance Type:            nonrobust                                         \n",
       "==============================================================================\n",
       "                 coef    std err          t      P>|t|      [0.025      0.975]\n",
       "------------------------------------------------------------------------------\n",
       "Intercept  -8.327e-17      0.016  -5.19e-15      1.000      -0.034       0.034\n",
       "z_1            0.4578      0.007     61.953      0.000       0.442       0.473\n",
       "z_2           -0.5174      0.086     -6.040      0.000      -0.699      -0.336\n",
       "z_3            0.2719      0.223      1.217      0.241      -0.202       0.746\n",
       "==============================================================================\n",
       "Omnibus:                        3.867   Durbin-Watson:                   1.314\n",
       "Prob(Omnibus):                  0.145   Jarque-Bera (JB):                1.482\n",
       "Skew:                           0.206   Prob(JB):                        0.477\n",
       "Kurtosis:                       1.732   Cond. No.                         30.2\n",
       "==============================================================================\n",
       "\n",
       "Notes:\n",
       "[1] Standard Errors assume that the covariance matrix of the errors is correctly specified.\n",
       "\"\"\""
      ]
     },
     "execution_count": 32,
     "metadata": {},
     "output_type": "execute_result"
    }
   ],
   "source": [
    "import statsmodels.formula.api as smf\n",
    "model = smf.ols(formula='y ~ z_1 + z_2 + z_3', data=df_pls).fit()\n",
    "model.summary()"
   ]
  }
 ],
 "metadata": {
  "kernelspec": {
   "display_name": "Python 3",
   "language": "python",
   "name": "python3"
  },
  "language_info": {
   "codemirror_mode": {
    "name": "ipython",
    "version": 3
   },
   "file_extension": ".py",
   "mimetype": "text/x-python",
   "name": "python",
   "nbconvert_exporter": "python",
   "pygments_lexer": "ipython3",
   "version": "3.6.1"
  }
 },
 "nbformat": 4,
 "nbformat_minor": 2
}
